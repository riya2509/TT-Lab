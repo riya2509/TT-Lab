{
 "cells": [
  {
   "cell_type": "markdown",
   "id": "28cde912",
   "metadata": {},
   "source": [
    "## 1. Given a string, the task is to reverse the order of the words in the given string.\n",
    "Ex- Input- “reverse the order of the words”\n",
    "Output- “words the of order the reverse”"
   ]
  },
  {
   "cell_type": "code",
   "execution_count": 1,
   "id": "7d39cf79",
   "metadata": {},
   "outputs": [
    {
     "name": "stdout",
     "output_type": "stream",
     "text": [
      "words the of order the reverse\n"
     ]
    }
   ],
   "source": [
    "def reverse_words(input_string):\n",
    "    return ' '.join(input_string.split()[::-1])\n",
    "input_str = \"reverse the order of the words\"\n",
    "output_str = reverse_words(input_str)\n",
    "print(output_str)\n"
   ]
  },
  {
   "cell_type": "markdown",
   "id": "f8c53c1e",
   "metadata": {},
   "source": [
    "## 2. Write a program to check whether string is rotated by two places\n",
    "(both anti-clockwise\n",
    "and clockwise).\n",
    "Ex- Str1= “Abhiraj”\n",
    "Str2=”jaAbhir”\n",
    "Output→ Yes"
   ]
  },
  {
   "cell_type": "code",
   "execution_count": 3,
   "id": "a84f1ee6",
   "metadata": {},
   "outputs": [
    {
     "name": "stdout",
     "output_type": "stream",
     "text": [
      "Output: No\n"
     ]
    }
   ],
   "source": [
    "def is_rotated_by_two_places(str1, str2):\n",
    "    return str1[-2:] + str1[:-2] == str2 or str1[2:] + str1[:2] == str2\n",
    "str1 = \"Abhiraj\"\n",
    "str2 = \"jaAbhir\"\n",
    "result = is_rotated_by_two_places(str1, str2)\n",
    "print(\"Output:\", \"Yes\" if result else \"No\")\n"
   ]
  },
  {
   "cell_type": "markdown",
   "id": "6a15a8d5",
   "metadata": {},
   "source": [
    "## 3. Write a program to get a single string from two given strings, separated by a space and swap the first two characters of each string.\n",
    "Sample String :'Abhi', 'Raj'\n",
    "Expected Result : 'Raj Abhi'"
   ]
  },
  {
   "cell_type": "code",
   "execution_count": 4,
   "id": "58760a30",
   "metadata": {},
   "outputs": [
    {
     "name": "stdout",
     "output_type": "stream",
     "text": [
      "Expected Result: Rahi Abj\n"
     ]
    }
   ],
   "source": [
    "def swap_and_concat(str1, str2):\n",
    "    return f\"{str2[:2]}{str1[2:]} {str1[:2]}{str2[2:]}\"\n",
    "string1 = 'Abhi'\n",
    "string2 = 'Raj'\n",
    "result_str = swap_and_concat(string1, string2)\n",
    "print(\"Expected Result:\", result_str)\n"
   ]
  },
  {
   "cell_type": "markdown",
   "id": "2bffbbe4",
   "metadata": {},
   "source": [
    "## 4. Write a Python program to remove the nth index character from a nonempty string."
   ]
  },
  {
   "cell_type": "code",
   "execution_count": 5,
   "id": "340bcf2e",
   "metadata": {},
   "outputs": [
    {
     "name": "stdout",
     "output_type": "stream",
     "text": [
      "Modified String: exmple\n"
     ]
    }
   ],
   "source": [
    "def remove_nth_char(input_str, n):\n",
    "    return input_str[:n] + input_str[n+1:]\n",
    "original_str = \"example\"\n",
    "n_index = 2\n",
    "modified_str = remove_nth_char(original_str, n_index)\n",
    "print(\"Modified String:\", modified_str)\n"
   ]
  },
  {
   "cell_type": "markdown",
   "id": "89bab83d",
   "metadata": {},
   "source": [
    "## 5. Write a Python program to sort a string lexicographically."
   ]
  },
  {
   "cell_type": "code",
   "execution_count": 6,
   "id": "bbeb2aec",
   "metadata": {},
   "outputs": [
    {
     "name": "stdout",
     "output_type": "stream",
     "text": [
      "Lexicographically Sorted String: hnopty\n"
     ]
    }
   ],
   "source": [
    "def lexicographic_sort(input_str):\n",
    "    return ''.join(sorted(input_str, key=lambda x: ord(x)))\n",
    "unsorted_str = \"python\"\n",
    "sorted_str = lexicographic_sort(unsorted_str)\n",
    "print(\"Lexicographically Sorted String:\", sorted_str)\n"
   ]
  },
  {
   "cell_type": "code",
   "execution_count": null,
   "id": "75f4f022",
   "metadata": {},
   "outputs": [],
   "source": []
  }
 ],
 "metadata": {
  "kernelspec": {
   "display_name": "Python 3 (ipykernel)",
   "language": "python",
   "name": "python3"
  },
  "language_info": {
   "codemirror_mode": {
    "name": "ipython",
    "version": 3
   },
   "file_extension": ".py",
   "mimetype": "text/x-python",
   "name": "python",
   "nbconvert_exporter": "python",
   "pygments_lexer": "ipython3",
   "version": "3.11.5"
  }
 },
 "nbformat": 4,
 "nbformat_minor": 5
}

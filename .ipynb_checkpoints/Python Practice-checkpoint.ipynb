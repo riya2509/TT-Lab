{
 "cells": [
  {
   "cell_type": "markdown",
   "id": "55b55e25",
   "metadata": {},
   "source": [
    "### Swapping two numbers"
   ]
  },
  {
   "cell_type": "code",
   "execution_count": 2,
   "id": "89ce7e4d",
   "metadata": {},
   "outputs": [
    {
     "name": "stdout",
     "output_type": "stream",
     "text": [
      "Enter a number4\n",
      "Enter a number5\n",
      "Number after swapping 5 4\n",
      "After swapping again 4 5\n"
     ]
    }
   ],
   "source": [
    "#Approach 1\n",
    "a=input(\"Enter a number\")\n",
    "b=input(\"Enter a number\")\n",
    "\n",
    "temp = a\n",
    "a=b\n",
    "b=temp\n",
    "\n",
    "print(\"Number after swapping\",a,b)\n",
    "#Approach 2\n",
    "a,b=b,a\n",
    "print(\"After swapping again\",a,b)"
   ]
  },
  {
   "cell_type": "markdown",
   "id": "8eb2cb40",
   "metadata": {},
   "source": [
    "### Check a number is prime or not"
   ]
  },
  {
   "cell_type": "code",
   "execution_count": 6,
   "id": "4fd49f32",
   "metadata": {},
   "outputs": [
    {
     "name": "stdout",
     "output_type": "stream",
     "text": [
      "Enter a number10\n",
      "10 is not a prime number\n"
     ]
    }
   ],
   "source": [
    "num=int(input(\"Enter a number\"))\n",
    "count =0\n",
    "\n",
    "if num>1:\n",
    "    for i in range(1,num+1):\n",
    "        if (num%i)==0:\n",
    "            count=count+1\n",
    "    if(count ==2):\n",
    "        print(num,\"is a prime number\")\n",
    "    else:\n",
    "        print(num,\"is not a prime number\")\n",
    "        \n",
    "            "
   ]
  },
  {
   "cell_type": "markdown",
   "id": "449666b9",
   "metadata": {},
   "source": [
    "### Counting the number of prime numbers"
   ]
  },
  {
   "cell_type": "code",
   "execution_count": 12,
   "id": "74f232fb",
   "metadata": {},
   "outputs": [
    {
     "name": "stdout",
     "output_type": "stream",
     "text": [
      "25\n"
     ]
    }
   ],
   "source": [
    "def countPrime(n):\n",
    "    count=0\n",
    "    \n",
    "    for i in range (n):\n",
    "        if i>1:\n",
    "            for j in range (2,i):\n",
    "                if(i%j)==0:\n",
    "                    break\n",
    "            else:\n",
    "                count+=1\n",
    "    return count\n",
    "\n",
    "print(countPrime(100))   "
   ]
  },
  {
   "cell_type": "code",
   "execution_count": null,
   "id": "e49720c1",
   "metadata": {},
   "outputs": [],
   "source": []
  }
 ],
 "metadata": {
  "kernelspec": {
   "display_name": "Python 3 (ipykernel)",
   "language": "python",
   "name": "python3"
  },
  "language_info": {
   "codemirror_mode": {
    "name": "ipython",
    "version": 3
   },
   "file_extension": ".py",
   "mimetype": "text/x-python",
   "name": "python",
   "nbconvert_exporter": "python",
   "pygments_lexer": "ipython3",
   "version": "3.11.5"
  }
 },
 "nbformat": 4,
 "nbformat_minor": 5
}

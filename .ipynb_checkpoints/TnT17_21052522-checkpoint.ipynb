{
 "cells": [
  {
   "cell_type": "markdown",
   "id": "7c87cdc0",
   "metadata": {},
   "source": [
    "1) WAP in python that uses a class to store the name and marks of the students. Use list to store the marks in three subjects.\n"
   ]
  },
  {
   "cell_type": "code",
   "execution_count": 13,
   "id": "cfa6de06",
   "metadata": {},
   "outputs": [
    {
     "name": "stdout",
     "output_type": "stream",
     "text": [
      "Enter the name of Student:meenakshi\n",
      "Enter the marks of meenakshi in 1 subject: 20\n",
      "Enter the marks of meenakshi in 2 subject: 20\n",
      "Enter the marks of meenakshi in 3 subject: 20\n",
      "meenakshi got  [20, 20, 20]\n",
      "\n",
      "Enter the name of Student:navay\n",
      "Enter the marks of navay in 1 subject: 10\n",
      "Enter the marks of navay in 2 subject: 101\n",
      "Enter the marks of navay in 3 subject: 01\n",
      "navay got  [10, 101, 1]\n"
     ]
    }
   ],
   "source": [
    "class students:\n",
    "    count = 0\n",
    "    def __init__(self, name):\n",
    "        self.name = name\n",
    "        self.marks = []\n",
    "        students.count = students.count + 1\n",
    "        \n",
    "    def enterMarks(self):\n",
    "        for i in range(3):\n",
    "            m = int(input(\"Enter the marks of %s in %d subject: \"%(self.name, i+1)))\n",
    "            self.marks.append(m)\n",
    "            \n",
    "    def display(self):\n",
    "        print (self.name, \"got \", self.marks)\n",
    "             \n",
    "name = input(\"Enter the name of Student:\")\n",
    "s1 = students(name)\n",
    "s1.enterMarks()\n",
    "s1.display()\n",
    "print (\"\")\n",
    "name = input(\"Enter the name of Student:\")\n",
    "s2 = students(name)\n",
    "s2.enterMarks()\n",
    "s2.display()\n",
    "\n"
   ]
  },
  {
   "cell_type": "markdown",
   "id": "55f5b442",
   "metadata": {},
   "source": [
    "2) WAP in python with class Employee that keeps a track of the number of employees in an organization and also stores their name, designation and salary details."
   ]
  },
  {
   "cell_type": "code",
   "execution_count": 19,
   "id": "5cc9b910",
   "metadata": {},
   "outputs": [
    {
     "name": "stdout",
     "output_type": "stream",
     "text": [
      "enter the name of employeeh\n",
      "Enter the designationn  of the employeed\n",
      "ENter the salary3\n",
      "The number of employees in the organization are:  1\n",
      "Name of Employee is:  h\n",
      "Designation of Employee:  d\n",
      "Salary of Employee:  3\n",
      "Enter the name of the employeey\n",
      "Enter the designation of the employeet\n",
      "Enter the salary5\n",
      "The number of employees in the organization are:  2\n",
      "Name of Employee is:  y\n",
      "Designation of Employee:  d\n",
      "Salary of Employee:  5\n"
     ]
    }
   ],
   "source": [
    "class Employee:\n",
    "    count = 0\n",
    "    def __init__(self, name, des, salary):\n",
    "        self.name = name\n",
    "        self.des = des\n",
    "        self.salary = salary\n",
    "        Employee.count = Employee.count + 1\n",
    "    \n",
    "    def displayCount(self):\n",
    "        print(\"The number of employees in the organization are: \", self.count)\n",
    "        \n",
    "    def displayEmp(self):\n",
    "        print (\"Name of Employee is: \", self.name)\n",
    "        print (\"Designation of Employee: \", self.des)\n",
    "        print (\"Salary of Employee: \", self.salary)\n",
    "        \n",
    "\n",
    "name=input(\"enter the name of employee\")\n",
    "des=input(\"Enter the designationn  of the employee\")\n",
    "salary=input(\"ENter the salary\")\n",
    "em1=Employee(name, des, salary)\n",
    "\n",
    "em1.displayEmp()\n",
    "\n",
    "name=input(\"Enter the name of the employee\")\n",
    "des==input(\"Enter the designation of the employee\")\n",
    "salary=input(\"Enter the salary\")\n",
    "em2=Employee(name, des, salary)\n",
    "em2.displayCount()\n",
    "em2.displayEmp()\n"
   ]
  },
  {
   "cell_type": "markdown",
   "id": "b3ab2d06",
   "metadata": {},
   "source": [
    "3) WAP in python that has a class Person storing name and date of birth of a person. The program should subtract the date of birth from today’s date to find out that the person is eligible to vote or not.\n"
   ]
  },
  {
   "cell_type": "code",
   "execution_count": 6,
   "id": "d185d3d3",
   "metadata": {},
   "outputs": [],
   "source": [
    "import datetime\n",
    "class person():\n",
    "    def __init__(self, name, dob):\n",
    "        self.name=name\n",
    "        self.dob=dob\n",
    "    def check(self):\n",
    "        today=datetime.date.today()\n",
    "        age=today.year-self.dob.year\n",
    "        if today<datetime.date(today.year, self.dob.month, self.dob.day):\n",
    "            age-=1\n",
    "            if age>=18:\n",
    "                print(self.name, \" , Congratulation! You are eligible to vote.\")\n",
    "        else:\n",
    "            print(self.name, \" , Sorry! You are not eligible to vote\")\n",
    "            p=person(\"Navya\", datetime.date(2003, 2, 14))\n",
    "            p.check()"
   ]
  },
  {
   "cell_type": "markdown",
   "id": "0155d9d3",
   "metadata": {},
   "source": [
    "4) WAP in python that has a class Circle. Use a class variable that defines the value of constant Pie value=3.14. Use this class variable to calculate the area and circumference of the circle with specified radius.\n"
   ]
  },
  {
   "cell_type": "code",
   "execution_count": 28,
   "id": "2466b8f4",
   "metadata": {},
   "outputs": [
    {
     "name": "stdout",
     "output_type": "stream",
     "text": [
      "Enter the radius of circle4\n",
      "The area of C1 circle is:  50.272\n",
      "Circumference of C1 Circle is:  25.136\n",
      "\n",
      "Enter the radius of circle5\n",
      "Area of C1 circle is:  78.55\n",
      "Circumference of C1 Circle is:  31.419999999999998\n"
     ]
    }
   ],
   "source": [
    "class Circle:\n",
    "    PI = 3.142\n",
    "    \n",
    "    def __init__(self, radius):\n",
    "        self.radius = radius\n",
    "        \n",
    "    def area (self):\n",
    "        return (Circle.PI * self.radius * self.radius)\n",
    "    \n",
    "    def circumference(self):\n",
    "        return (2 * Circle.PI * self.radius)\n",
    "\n",
    "r = int(input(\"Enter the radius of circle\"))\n",
    "c1 = Circle(r)\n",
    "print (\"The area of C1 circle is: \", c1.area())\n",
    "print (\"Circumference of C1 Circle is: \", c1.circumference())\n",
    "print(\"\")\n",
    "r = int(input(\"Enter the radius of circle\"))\n",
    "c2 = Circle(r)\n",
    "print (\"Area of C1 circle is: \", c2.area())\n",
    "print (\"Circumference of C1 Circle is: \", c2.circumference())"
   ]
  },
  {
   "cell_type": "markdown",
   "id": "dd81b50e",
   "metadata": {},
   "source": [
    "5) WAP in python that has a class Student that stores the name ,roll no, marks(in three subjects). And display the information(name, roll no, total marks) stored about the students.\n",
    "\n"
   ]
  },
  {
   "cell_type": "code",
   "execution_count": 1,
   "id": "8068e576",
   "metadata": {},
   "outputs": [
    {
     "name": "stdout",
     "output_type": "stream",
     "text": [
      "Enter the roll number: 5\n",
      "Enter the name: mee\n",
      "Enter the marks in the first subject: 99\n",
      "Enter the marks in the second subject: 98\n",
      "Enter the marks in the third subject: 97\n",
      "Roll Number is:  5\n",
      "Name is:  mee\n",
      "Marks are:  [99, 98, 97]\n",
      "Total Marks are:  294\n",
      "Average Marks are:  98.0\n"
     ]
    }
   ],
   "source": [
    "class Student:\n",
    "    marks = []\n",
    "    def getData(self, rn, name, m1, m2, m3):\n",
    "        Student.rn = rn\n",
    "        Student.name = name\n",
    "        Student.marks.append(m1)\n",
    "        Student.marks.append(m2)\n",
    "        Student.marks.append(m3)\n",
    "        \n",
    "    def displayData(self):\n",
    "        print (\"Roll Number is: \", Student.rn)\n",
    "        print (\"Name is: \", Student.name)\n",
    "        #print (\"Marks in subject 1: \", Student.marks[0])\n",
    "        #print (\"Marks in subject 2: \", Student.marks[1])\n",
    "        #print (\"Marks in subject 3: \", Student.marks[2])\n",
    "        print (\"Marks are: \", Student.marks)\n",
    "        print (\"Total Marks are: \", self.total())\n",
    "        print (\"Average Marks are: \", self.average())\n",
    "        \n",
    "    def total(self):\n",
    "        return (Student.marks[0] + Student.marks[1] +Student.marks[2])\n",
    "    \n",
    "    def average(self):\n",
    "        return ((Student.marks[0] + Student.marks[1] +Student.marks[2])/3)\n",
    "    \n",
    "r = int (input(\"Enter the roll number: \"))\n",
    "name = input(\"Enter the name: \")\n",
    "m1 = int (input(\"Enter the marks in the first subject: \"))\n",
    "m2 = int (input(\"Enter the marks in the second subject: \"))\n",
    "m3 = int (input(\"Enter the marks in the third subject: \"))\n",
    "\n",
    "s1 = Student()\n",
    "s1.getData(r, name, m1, m2, m3)\n",
    "s1.displayData()"
   ]
  },
  {
   "cell_type": "markdown",
   "id": "e49f676a",
   "metadata": {},
   "source": [
    "6) WAP in python that has a class Rectangle with attribute length and breadth and a method area that returns the area of the circle.\n"
   ]
  },
  {
   "cell_type": "code",
   "execution_count": 2,
   "id": "0304fd0c",
   "metadata": {},
   "outputs": [
    {
     "name": "stdout",
     "output_type": "stream",
     "text": [
      "Enter the length of the Rectangle: 4\n",
      "Enter the breadth of rectangle: 3\n",
      "Rectangle object details are:\n",
      "Length of Rectangle is:  4\n",
      "Breadth of Rectangle is:  3\n",
      "\n",
      "Area of Rectangle is:  12\n"
     ]
    }
   ],
   "source": [
    "class Rectangle:\n",
    "    def __init__(self, length, breadth):\n",
    "        self.length = length\n",
    "        self.breadth = breadth\n",
    "        \n",
    "    def display(self):\n",
    "        print (\"Length of Rectangle is: \", self.length)\n",
    "        print (\"Breadth of Rectangle is: \", self.breadth)\n",
    "        \n",
    "    def area(self):\n",
    "        return (self.length*self.breadth)\n",
    "    \n",
    "  \n",
    "    \n",
    "l = int (input(\"Enter the length of the Rectangle: \"))\n",
    "b = int (input(\"Enter the breadth of rectangle: \"))\n",
    "\n",
    "r1 = Rectangle(l , b)\n",
    "print (\"Rectangle object details are:\")\n",
    "r1.display()\n",
    "print(\"\")\n",
    "print (\"Area of Rectangle is: \", r1.area())\n"
   ]
  },
  {
   "cell_type": "markdown",
   "id": "ed118864",
   "metadata": {},
   "source": [
    "7) WAP in python that has a class Fraction with attributes numerator and denominator. Enter the values to the attributes and print the function in simplified forms.\n"
   ]
  },
  {
   "cell_type": "code",
   "execution_count": 3,
   "id": "e33db74b",
   "metadata": {},
   "outputs": [
    {
     "name": "stdout",
     "output_type": "stream",
     "text": [
      "Enter the numerator: 10\n",
      "Enter the denominator: 5\n",
      "Fraction in simplified form:\n",
      "2/1\n"
     ]
    }
   ],
   "source": [
    "class Fraction:\n",
    "    def __init__(self, numerator, denominator):\n",
    "        self.numerator = numerator\n",
    "        self.denominator = denominator\n",
    "\n",
    "    def simplify(self):\n",
    "        gcd = self.find_gcd(self.numerator, self.denominator)\n",
    "        self.numerator //= gcd\n",
    "        self.denominator //= gcd\n",
    "\n",
    "    def find_gcd(self, a, b):\n",
    "        while b:\n",
    "            a, b = b, a % b\n",
    "        return a\n",
    "\n",
    "    def print_fraction(self):\n",
    "        print(f\"{self.numerator}/{self.denominator}\")\n",
    "\n",
    "numerator = int(input(\"Enter the numerator: \"))\n",
    "denominator = int(input(\"Enter the denominator: \"))\n",
    "\n",
    "fraction = Fraction(numerator, denominator)\n",
    "fraction.simplify()\n",
    "print(\"Fraction in simplified form:\")\n",
    "fraction.print_fraction()\n"
   ]
  },
  {
   "cell_type": "markdown",
   "id": "b98029e5",
   "metadata": {},
   "source": [
    "8) WAP in python that has an abstract class Polygon. Derive two classes Rectangle and Triangle from polygon and write methods to get the details of their dimensions and hence calculate the area."
   ]
  },
  {
   "cell_type": "code",
   "execution_count": 4,
   "id": "7f986e82",
   "metadata": {},
   "outputs": [
    {
     "name": "stdout",
     "output_type": "stream",
     "text": [
      "Enter the length of the rectangle: 4\n",
      "Enter the breadth of the rectangle: 3\n",
      "Enter the base of the triangle: 6\n",
      "Enter the height of the triangle: 4\n",
      "\n",
      "Rectangle:\n",
      "Dimensions: (4.0, 3.0)\n",
      "Area: 12.0\n",
      "\n",
      "Triangle:\n",
      "Dimensions: (6.0, 4.0)\n",
      "Area: 12.0\n"
     ]
    }
   ],
   "source": [
    "from abc import ABC, abstractmethod\n",
    "\n",
    "class Polygon(ABC):\n",
    "    def __init__(self, num_sides):\n",
    "        self.num_sides = num_sides\n",
    "\n",
    "    @abstractmethod\n",
    "    def get_dimensions(self):\n",
    "        pass\n",
    "\n",
    "    @abstractmethod\n",
    "    def calculate_area(self):\n",
    "        pass\n",
    "\n",
    "class Rectangle(Polygon):\n",
    "    def __init__(self, length, breadth):\n",
    "        super().__init__(4)\n",
    "        self.length = length\n",
    "        self.breadth = breadth\n",
    "\n",
    "    def get_dimensions(self):\n",
    "        return self.length, self.breadth\n",
    "\n",
    "    def calculate_area(self):\n",
    "        return self.length * self.breadth\n",
    "\n",
    "class Triangle(Polygon):\n",
    "    def __init__(self, base, height):\n",
    "        super().__init__(3)\n",
    "        self.base = base\n",
    "        self.height = height\n",
    "\n",
    "    def get_dimensions(self):\n",
    "        return self.base, self.height\n",
    "\n",
    "    def calculate_area(self):\n",
    "        return 0.5 * self.base * self.height\n",
    "\n",
    "\n",
    "rect_length = float(input(\"Enter the length of the rectangle: \"))\n",
    "rect_breadth = float(input(\"Enter the breadth of the rectangle: \"))\n",
    "rectangle = Rectangle(rect_length, rect_breadth)\n",
    "\n",
    "tri_base = float(input(\"Enter the base of the triangle: \"))\n",
    "tri_height = float(input(\"Enter the height of the triangle: \"))\n",
    "triangle = Triangle(tri_base, tri_height)\n",
    "\n",
    "print(\"\\nRectangle:\")\n",
    "print(\"Dimensions:\", rectangle.get_dimensions())\n",
    "print(\"Area:\", rectangle.calculate_area())\n",
    "\n",
    "print(\"\\nTriangle:\")\n",
    "print(\"Dimensions:\", triangle.get_dimensions())\n",
    "print(\"Area:\", triangle.calculate_area())\n"
   ]
  },
  {
   "cell_type": "markdown",
   "id": "06d53c13",
   "metadata": {},
   "source": [
    "9) WAP in python with class Bill. The users have the option to pay the bill by card or by cash. Use the inheritance to model this situation."
   ]
  },
  {
   "cell_type": "code",
   "execution_count": 7,
   "id": "d25d8c7a",
   "metadata": {},
   "outputs": [
    {
     "name": "stdout",
     "output_type": "stream",
     "text": [
      "Name: Navya Sonal Agarwal\n",
      "Age: 21\n",
      "Publications: 2\n"
     ]
    }
   ],
   "source": [
    "class Person:\n",
    "    def __init__(self, name, age):\n",
    "        self.name = name\n",
    "        self.age = age\n",
    "\n",
    "    def display_details(self):\n",
    "        print(f\"Name: {self.name}\")\n",
    "        print(f\"Age: {self.age}\")\n",
    "\n",
    "class Faculty(Person):\n",
    "    def __init__(self, name, age, publications):\n",
    "        super().__init__(name, age)\n",
    "        self.publications = publications\n",
    "\n",
    "    def display_details(self):\n",
    "        super().display_details()\n",
    "        print(f\"Publications: {self.publications}\")\n",
    "\n",
    "\n",
    "faculty_member = Faculty(\"Navya Sonal Agarwal\", 21, 2)\n",
    "faculty_member.display_details()\n"
   ]
  },
  {
   "cell_type": "markdown",
   "id": "524d886e",
   "metadata": {},
   "source": [
    "10) WAP in python has a class Person. Inherit a class Faculty from person which also have class publications."
   ]
  },
  {
   "cell_type": "code",
   "execution_count": 8,
   "id": "475e331f",
   "metadata": {},
   "outputs": [
    {
     "name": "stdout",
     "output_type": "stream",
     "text": [
      "Name: Navya\n",
      "Age: 20\n",
      "Publications: 2\n"
     ]
    }
   ],
   "source": [
    "class Person:\n",
    "    def __init__(self, name, age):\n",
    "        self.name = name\n",
    "        self.age = age\n",
    "\n",
    "    def display_details(self):\n",
    "        print(f\"Name: {self.name}\")\n",
    "        print(f\"Age: {self.age}\")\n",
    "\n",
    "class Faculty(Person):\n",
    "    def __init__(self, name, age, publications):\n",
    "        super().__init__(name, age)\n",
    "        self.publications = publications\n",
    "\n",
    "    def display_details(self):\n",
    "        super().display_details()\n",
    "        print(f\"Publications: {self.publications}\")\n",
    "\n",
    "\n",
    "faculty_member = Faculty(\"Navya\", 20, 2)\n",
    "faculty_member.display_details()\n"
   ]
  },
  {
   "cell_type": "code",
   "execution_count": null,
   "id": "d7a2e6b3",
   "metadata": {},
   "outputs": [],
   "source": []
  }
 ],
 "metadata": {
  "kernelspec": {
   "display_name": "Python 3 (ipykernel)",
   "language": "python",
   "name": "python3"
  },
  "language_info": {
   "codemirror_mode": {
    "name": "ipython",
    "version": 3
   },
   "file_extension": ".py",
   "mimetype": "text/x-python",
   "name": "python",
   "nbconvert_exporter": "python",
   "pygments_lexer": "ipython3",
   "version": "3.11.5"
  }
 },
 "nbformat": 4,
 "nbformat_minor": 5
}

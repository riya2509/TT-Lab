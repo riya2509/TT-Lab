{
 "cells": [
  {
   "cell_type": "markdown",
   "id": "4564900d",
   "metadata": {},
   "source": [
    "## 1.Write a Python Program to Check if a Number is Positive, Negative or Zero?"
   ]
  },
  {
   "cell_type": "code",
   "execution_count": 6,
   "id": "58cef1d6",
   "metadata": {},
   "outputs": [
    {
     "name": "stdout",
     "output_type": "stream",
     "text": [
      "Enter a number:45\n",
      "Number is positive\n"
     ]
    }
   ],
   "source": [
    "n = int(input(\"Enter a number:\"))\n",
    "if n>0:\n",
    "    print(\"Number is positive\")\n",
    "elif n==0:\n",
    "    print(\"Number equal to zero\")\n",
    "elif n<0:\n",
    "    print(\"Number is negative\")"
   ]
  },
  {
   "cell_type": "markdown",
   "id": "d7954132",
   "metadata": {},
   "source": [
    "## 2.Write a Python Program to Check if a Number is Odd or Even?"
   ]
  },
  {
   "cell_type": "code",
   "execution_count": 8,
   "id": "2547f35f",
   "metadata": {},
   "outputs": [
    {
     "name": "stdout",
     "output_type": "stream",
     "text": [
      "Enter a number:2\n",
      "Number is Even\n"
     ]
    }
   ],
   "source": [
    "n = int(input(\"Enter a number:\"))\n",
    "if n%2==0:\n",
    "    print(\"Number is Even\")\n",
    "else:\n",
    "    print(\"Number is Odd\")"
   ]
  },
  {
   "cell_type": "markdown",
   "id": "0f104a21",
   "metadata": {},
   "source": [
    "## 3.Write a Python Program to Check Leap Year?"
   ]
  },
  {
   "cell_type": "code",
   "execution_count": 13,
   "id": "827f1a18",
   "metadata": {},
   "outputs": [
    {
     "name": "stdout",
     "output_type": "stream",
     "text": [
      "Enter a Year2013\n",
      "It's not a leap year\n"
     ]
    }
   ],
   "source": [
    "n = int(input(\"Enter a Year\"))\n",
    "if (n%4==0 and n%100!=0) or (n%400 ==0):\n",
    "    print(\"It's a Leap year\")\n",
    "else:\n",
    "    print(\"It's not a leap year\")"
   ]
  },
  {
   "cell_type": "markdown",
   "id": "7fd8d126",
   "metadata": {},
   "source": [
    "## 4.Write a Python Program to Check Prime Number?"
   ]
  },
  {
   "cell_type": "code",
   "execution_count": 27,
   "id": "b2d667e1",
   "metadata": {},
   "outputs": [
    {
     "name": "stdout",
     "output_type": "stream",
     "text": [
      "Enter a number15\n",
      "15 is not a prime number\n"
     ]
    }
   ],
   "source": [
    " n = int(input(\"Enter a number\"))\n",
    "if n > 1:  \n",
    "        for i in range(2, int(n/2) + 1):  \n",
    "            if (n % i) == 0:  \n",
    "                print(n, \"is not a prime number\")  \n",
    "                break  \n",
    "        else:  \n",
    "            print(n, \"is a prime number\")  \n",
    "else:  \n",
    "    print(n, \"is not a prime number\") "
   ]
  },
  {
   "cell_type": "markdown",
   "id": "44e79520",
   "metadata": {},
   "source": [
    "## 5. Write a Python Program to Print all Prime Numbers in an Interval of 1-10000?"
   ]
  },
  {
   "cell_type": "code",
   "execution_count": 32,
   "id": "0bc958b6",
   "metadata": {},
   "outputs": [
    {
     "name": "stdout",
     "output_type": "stream",
     "text": [
      "1\n",
      "11\n",
      "13\n",
      "17\n",
      "19\n",
      "23\n",
      "29\n",
      "31\n",
      "37\n",
      "41\n",
      "43\n",
      "47\n",
      "53\n",
      "59\n",
      "61\n",
      "67\n",
      "71\n",
      "73\n",
      "79\n",
      "83\n",
      "89\n",
      "97\n",
      "101\n",
      "103\n",
      "107\n",
      "109\n",
      "113\n",
      "121\n",
      "127\n",
      "131\n",
      "137\n",
      "139\n",
      "143\n",
      "149\n",
      "151\n",
      "157\n",
      "163\n",
      "167\n",
      "169\n",
      "173\n",
      "179\n",
      "181\n",
      "187\n",
      "191\n",
      "193\n",
      "197\n",
      "199\n",
      "209\n",
      "211\n",
      "221\n",
      "223\n",
      "227\n",
      "229\n",
      "233\n",
      "239\n",
      "241\n",
      "247\n",
      "251\n",
      "253\n",
      "257\n",
      "263\n",
      "269\n",
      "271\n",
      "277\n",
      "281\n",
      "283\n",
      "289\n",
      "293\n",
      "299\n",
      "307\n",
      "311\n",
      "313\n",
      "317\n",
      "319\n",
      "323\n",
      "331\n",
      "337\n",
      "341\n",
      "347\n",
      "349\n",
      "353\n",
      "359\n",
      "361\n",
      "367\n",
      "373\n",
      "377\n",
      "379\n",
      "383\n",
      "389\n",
      "391\n",
      "397\n",
      "401\n",
      "403\n",
      "407\n",
      "409\n",
      "419\n",
      "421\n",
      "431\n",
      "433\n",
      "437\n",
      "439\n",
      "443\n",
      "449\n",
      "451\n",
      "457\n",
      "461\n",
      "463\n",
      "467\n",
      "473\n",
      "479\n",
      "481\n",
      "487\n",
      "491\n",
      "493\n",
      "499\n",
      "503\n",
      "509\n",
      "517\n",
      "521\n",
      "523\n",
      "527\n",
      "529\n",
      "533\n",
      "541\n",
      "547\n",
      "551\n",
      "557\n",
      "559\n",
      "563\n",
      "569\n",
      "571\n",
      "577\n",
      "583\n",
      "587\n",
      "589\n",
      "593\n",
      "599\n",
      "601\n",
      "607\n",
      "611\n",
      "613\n",
      "617\n",
      "619\n",
      "629\n",
      "631\n",
      "641\n",
      "643\n",
      "647\n",
      "649\n",
      "653\n",
      "659\n",
      "661\n",
      "667\n",
      "671\n",
      "673\n",
      "677\n",
      "683\n",
      "689\n",
      "691\n",
      "697\n",
      "701\n",
      "703\n",
      "709\n",
      "713\n",
      "719\n",
      "727\n",
      "731\n",
      "733\n",
      "737\n",
      "739\n",
      "743\n",
      "751\n",
      "757\n",
      "761\n",
      "767\n",
      "769\n",
      "773\n",
      "779\n",
      "781\n",
      "787\n",
      "793\n",
      "797\n",
      "799\n",
      "803\n",
      "809\n",
      "811\n",
      "817\n",
      "821\n",
      "823\n",
      "827\n",
      "829\n",
      "839\n",
      "841\n",
      "851\n",
      "853\n",
      "857\n",
      "859\n",
      "863\n",
      "869\n",
      "871\n",
      "877\n",
      "881\n",
      "883\n",
      "887\n",
      "893\n",
      "899\n",
      "901\n",
      "907\n",
      "911\n",
      "913\n",
      "919\n",
      "923\n",
      "929\n",
      "937\n",
      "941\n",
      "943\n",
      "947\n",
      "949\n",
      "953\n",
      "961\n",
      "967\n",
      "971\n",
      "977\n",
      "979\n",
      "983\n",
      "989\n",
      "991\n",
      "997\n"
     ]
    }
   ],
   "source": [
    "for x in range(1,1000):\n",
    "        for i in range(2, int(n/2) + 1):  \n",
    "            if (x % i) == 0:  \n",
    "                break  \n",
    "        else:  \n",
    "            print(x)  \n"
   ]
  },
  {
   "cell_type": "markdown",
   "id": "f746b502",
   "metadata": {},
   "source": [
    "## 6. Write a Python Program to find sum of array?"
   ]
  },
  {
   "cell_type": "code",
   "execution_count": 33,
   "id": "c544dbd0",
   "metadata": {},
   "outputs": [
    {
     "name": "stdout",
     "output_type": "stream",
     "text": [
      "Sum of the array: 43\n"
     ]
    }
   ],
   "source": [
    "def find_sum_of_array(arr):\n",
    "    return sum(arr)\n",
    "\n",
    "arr = [1, 20, 3, 14, 5]\n",
    "result = find_sum_of_array(arr)\n",
    "print(f\"Sum of the array: {result}\")\n"
   ]
  },
  {
   "cell_type": "markdown",
   "id": "5af17138",
   "metadata": {},
   "source": [
    "## 7. Write a Python Program to find largest element in an array?"
   ]
  },
  {
   "cell_type": "code",
   "execution_count": 37,
   "id": "d71571c2",
   "metadata": {},
   "outputs": [
    {
     "name": "stdout",
     "output_type": "stream",
     "text": [
      "Enter number of elements : 4\n",
      "11\n",
      "32\n",
      "45\n",
      "67\n",
      "[11, 32, 45, 67]\n",
      "Largest element in the array: 67\n"
     ]
    }
   ],
   "source": [
    "lst = []\n",
    " \n",
    "n = int(input(\"Enter number of elements : \"))\n",
    " \n",
    "for i in range(0, n):\n",
    "    ele = int(input())\n",
    "    lst.append(ele)  \n",
    " \n",
    "print(lst)\n",
    "largest_element = max(lst)\n",
    "print(f\"Largest element in the array: {largest_element}\")\n"
   ]
  },
  {
   "cell_type": "markdown",
   "id": "245f9961",
   "metadata": {},
   "source": [
    "## 8. Write a Python Program for array rotation?"
   ]
  },
  {
   "cell_type": "code",
   "execution_count": 40,
   "id": "deda264a",
   "metadata": {},
   "outputs": [
    {
     "name": "stdout",
     "output_type": "stream",
     "text": [
      "Enter number of elements : 5\n",
      "1\n",
      "2\n",
      "3\n",
      "4\n",
      "5\n",
      "[1, 2, 3, 4, 5]\n",
      "Rotated array: [4, 5, 1, 2, 3]\n"
     ]
    }
   ],
   "source": [
    "lst = []\n",
    " \n",
    "n = int(input(\"Enter number of elements : \"))\n",
    " \n",
    "for i in range(0, n):\n",
    "    ele = int(input())\n",
    "    lst.append(ele)  \n",
    " \n",
    "print(lst)\n",
    "rotation_steps = 3\n",
    "rotated_array = lst[rotation_steps:] + lst[:rotation_steps]\n",
    "print(f\"Rotated array: {rotated_array}\")\n"
   ]
  },
  {
   "cell_type": "markdown",
   "id": "4d5ea49f",
   "metadata": {},
   "source": [
    "## 9. Write a Python Program to Split the array and add the first part to the end?"
   ]
  },
  {
   "cell_type": "code",
   "execution_count": 41,
   "id": "7aa95cf9",
   "metadata": {},
   "outputs": [
    {
     "name": "stdout",
     "output_type": "stream",
     "text": [
      "Enter number of elements : 5\n",
      "1\n",
      "2\n",
      "3\n",
      "4\n",
      "5\n",
      "[1, 2, 3, 4, 5]\n",
      "Array after split and add: [3, 4, 5, 1, 2]\n"
     ]
    }
   ],
   "source": [
    "lst = []\n",
    " \n",
    "n = int(input(\"Enter number of elements : \"))\n",
    " \n",
    "for i in range(0, n):\n",
    "    ele = int(input())\n",
    "    lst.append(ele)  \n",
    " \n",
    "print(lst)\n",
    "split_position = 2\n",
    "split_and_added_array = lst[split_position:] + lst[:split_position]\n",
    "print(f\"Array after split and add: {split_and_added_array}\")\n"
   ]
  },
  {
   "cell_type": "markdown",
   "id": "12414211",
   "metadata": {},
   "source": [
    "## 10. Write a Python Program to check if given array is Monotonic?"
   ]
  },
  {
   "cell_type": "code",
   "execution_count": 42,
   "id": "2f91a5e8",
   "metadata": {},
   "outputs": [
    {
     "name": "stdout",
     "output_type": "stream",
     "text": [
      "Enter number of elements : 4\n",
      "2\n",
      "3\n",
      "4\n",
      "5\n",
      "[2, 3, 4, 5]\n",
      "The array is monotonic: True\n"
     ]
    }
   ],
   "source": [
    "lst = []\n",
    " \n",
    "n = int(input(\"Enter number of elements : \"))\n",
    " \n",
    "for i in range(0, n):\n",
    "    ele = int(input())\n",
    "    lst.append(ele)  \n",
    " \n",
    "print(lst)\n",
    "increasing = decreasing = True\n",
    "\n",
    "for i in range(1, len(lst)):\n",
    "    if lst[i] > lst[i - 1]:\n",
    "        decreasing = False\n",
    "    if lst[i] < lst[i - 1]:\n",
    "        increasing = False\n",
    "\n",
    "is_monotonic = increasing or decreasing\n",
    "print(f\"The array is monotonic: {is_monotonic}\")\n"
   ]
  },
  {
   "cell_type": "code",
   "execution_count": null,
   "id": "caf2d77b",
   "metadata": {},
   "outputs": [],
   "source": []
  }
 ],
 "metadata": {
  "kernelspec": {
   "display_name": "Python 3 (ipykernel)",
   "language": "python",
   "name": "python3"
  },
  "language_info": {
   "codemirror_mode": {
    "name": "ipython",
    "version": 3
   },
   "file_extension": ".py",
   "mimetype": "text/x-python",
   "name": "python",
   "nbconvert_exporter": "python",
   "pygments_lexer": "ipython3",
   "version": "3.11.5"
  }
 },
 "nbformat": 4,
 "nbformat_minor": 5
}

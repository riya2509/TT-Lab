{
 "cells": [
  {
   "cell_type": "markdown",
   "id": "a60b10ee",
   "metadata": {},
   "source": [
    "## 1. WAP to reverse internal content of each word."
   ]
  },
  {
   "cell_type": "code",
   "execution_count": 2,
   "id": "6b1dd65c",
   "metadata": {},
   "outputs": [
    {
     "name": "stdout",
     "output_type": "stream",
     "text": [
      "I ma ayiR\n"
     ]
    }
   ],
   "source": [
    "def reverse_internal_content(sentence):\n",
    "    words = sentence.split()\n",
    "    reversed_words = [''.join(reversed(word)) for word in words]\n",
    "    reversed_sentence = ' '.join(reversed_words)\n",
    "    return reversed_sentence\n",
    "\n",
    "input_sentence = \"I am Riya\"\n",
    "result = reverse_internal_content(input_sentence)\n",
    "print(result)\n"
   ]
  },
  {
   "cell_type": "markdown",
   "id": "362ed407",
   "metadata": {},
   "source": [
    "## 2. WAP to merge characters of two strings into a single string by taking characters alternatively."
   ]
  },
  {
   "cell_type": "code",
   "execution_count": 3,
   "id": "0225d1ed",
   "metadata": {},
   "outputs": [
    {
     "name": "stdout",
     "output_type": "stream",
     "text": [
      "a1b2c3\n"
     ]
    }
   ],
   "source": [
    "def merge_alternatively(str1, str2):\n",
    "    merged_string = ''.join([a + b for a, b in zip(str1, str2)])\n",
    "    return merged_string\n",
    "\n",
    "string1 = \"abc\"\n",
    "string2 = \"123\"\n",
    "result = merge_alternatively(string1, string2)\n",
    "print(result)\n"
   ]
  },
  {
   "cell_type": "markdown",
   "id": "e4e3f527",
   "metadata": {},
   "source": [
    "## 3. WAP to remove duplicate characters from the given input string"
   ]
  },
  {
   "cell_type": "code",
   "execution_count": 4,
   "id": "652eb3d9",
   "metadata": {},
   "outputs": [
    {
     "name": "stdout",
     "output_type": "stream",
     "text": [
      "progamin\n"
     ]
    }
   ],
   "source": [
    "def remove_duplicates(input_str):\n",
    "    unique_chars = ''.join(sorted(set(input_str), key=input_str.index))\n",
    "    return unique_chars\n",
    "\n",
    "input_string = \"programming\"\n",
    "result = remove_duplicates(input_string)\n",
    "print(result)\n"
   ]
  },
  {
   "cell_type": "markdown",
   "id": "60d9fcf6",
   "metadata": {},
   "source": [
    "## 4. WAP to find the number of occurence of each character present in the given string\n"
   ]
  },
  {
   "cell_type": "code",
   "execution_count": 5,
   "id": "a5e83f80",
   "metadata": {},
   "outputs": [
    {
     "name": "stdout",
     "output_type": "stream",
     "text": [
      "{'p': 1, 'r': 2, 'o': 1, 'g': 2, 'a': 1, 'm': 2, 'i': 1, 'n': 1}\n"
     ]
    }
   ],
   "source": [
    "def count_occurrences(input_str):\n",
    "    char_count = {}\n",
    "    for char in input_str:\n",
    "        char_count[char] = char_count.get(char, 0) + 1\n",
    "    return char_count\n",
    "\n",
    "input_string = \"programming\"\n",
    "result = count_occurrences(input_string)\n",
    "print(result)\n"
   ]
  },
  {
   "cell_type": "markdown",
   "id": "b0d453d9",
   "metadata": {},
   "source": [
    "## 5. WAP to print different vowels present in the given word"
   ]
  },
  {
   "cell_type": "code",
   "execution_count": 6,
   "id": "a1ade38d",
   "metadata": {},
   "outputs": [
    {
     "name": "stdout",
     "output_type": "stream",
     "text": [
      "oai\n"
     ]
    }
   ],
   "source": [
    "def print_vowels(word):\n",
    "    vowels = set(\"aeiouAEIOU\")\n",
    "    unique_vowels = ''.join(char for char in word if char in vowels)\n",
    "    return unique_vowels\n",
    "\n",
    "input_word = \"programming\"\n",
    "result = print_vowels(input_word)\n",
    "print(result)\n"
   ]
  },
  {
   "cell_type": "code",
   "execution_count": null,
   "id": "0c0efdf0",
   "metadata": {},
   "outputs": [],
   "source": []
  }
 ],
 "metadata": {
  "kernelspec": {
   "display_name": "Python 3 (ipykernel)",
   "language": "python",
   "name": "python3"
  },
  "language_info": {
   "codemirror_mode": {
    "name": "ipython",
    "version": 3
   },
   "file_extension": ".py",
   "mimetype": "text/x-python",
   "name": "python",
   "nbconvert_exporter": "python",
   "pygments_lexer": "ipython3",
   "version": "3.11.5"
  }
 },
 "nbformat": 4,
 "nbformat_minor": 5
}

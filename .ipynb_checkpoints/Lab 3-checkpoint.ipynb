{
 "cells": [
  {
   "cell_type": "code",
   "execution_count": 1,
   "id": "955433f0",
   "metadata": {},
   "outputs": [],
   "source": [
    "# Q1 WAP to reverse internal content of each word"
   ]
  },
  {
   "cell_type": "code",
   "execution_count": 15,
   "id": "bc3b604f",
   "metadata": {},
   "outputs": [
    {
     "name": "stdout",
     "output_type": "stream",
     "text": [
      "olleH CBA\n"
     ]
    }
   ],
   "source": [
    "def rev_word(s):\n",
    "\n",
    "    words = s.split()\n",
    "    reverse_words = [word[::-1] for word in words]\n",
    "    reversed_sentence = ' '.join(reverse_words)\n",
    "\n",
    "    return reversed_sentence\n",
    "\n",
    "sentence = \"Hello ABC\"\n",
    "rever_sen = rev_word(sentence)\n",
    "print(rever_sen)"
   ]
  },
  {
   "cell_type": "code",
   "execution_count": null,
   "id": "a10bf7a4",
   "metadata": {},
   "outputs": [],
   "source": [
    "# Q2 WAP to merge characters of two strings into a single string by taking characters alterntaively\n"
   ]
  },
  {
   "cell_type": "code",
   "execution_count": 16,
   "id": "e0063289",
   "metadata": {},
   "outputs": [
    {
     "name": "stdout",
     "output_type": "stream",
     "text": [
      "ambncldo\n"
     ]
    }
   ],
   "source": [
    "def merge_string(str1, str2):\n",
    "    merged_string = ''\n",
    "    len1, len2 = len(str1), len(str2)\n",
    "    max_len = max(len1, len2)\n",
    "\n",
    "    for i in range(max_len):\n",
    "        if i < len1:\n",
    "            merged_string += str1[i]\n",
    "        if i < len2:\n",
    "            merged_string += str2[i]\n",
    "\n",
    "    return merged_string\n",
    "\n",
    "s1 = \"abcd\"\n",
    "s2 = \"mnlo\"\n",
    "result = merge_string(s1, s2)\n",
    "print(result)"
   ]
  },
  {
   "cell_type": "code",
   "execution_count": 13,
   "id": "d2726704",
   "metadata": {},
   "outputs": [],
   "source": [
    "# Q3 WAP to remove duplicate characters on the given input string"
   ]
  },
  {
   "cell_type": "code",
   "execution_count": 17,
   "id": "8ff5cb4a",
   "metadata": {},
   "outputs": [
    {
     "name": "stdout",
     "output_type": "stream",
     "text": [
      "Enter the stringabcdabcdefg\n",
      " abcdefg\n"
     ]
    }
   ],
   "source": [
    "s=input(\"Enter the string\")\n",
    "new_s=\" \"\n",
    "for i in s:\n",
    "    if i not in new_s:\n",
    "        new_s+=i\n",
    "print(new_s)"
   ]
  },
  {
   "cell_type": "code",
   "execution_count": 17,
   "id": "0be18b9d",
   "metadata": {},
   "outputs": [],
   "source": [
    "# Q4 Wap to find the number of occurance of each character present in the given string "
   ]
  },
  {
   "cell_type": "code",
   "execution_count": 18,
   "id": "e2809841",
   "metadata": {},
   "outputs": [
    {
     "name": "stdout",
     "output_type": "stream",
     "text": [
      "{'A': 1, 'p': 2, 'l': 1, 'e': 1, ' ': 1, 'b': 1, 'a': 3, 'n': 2}\n"
     ]
    }
   ],
   "source": [
    "def character_count(str):\n",
    "    count={}\n",
    "    \n",
    "    for char in str:\n",
    "        if char in count:\n",
    "            count[char] += 1\n",
    "        else:\n",
    "            count[char] = 1\n",
    "\n",
    "    return count\n",
    "    \n",
    "\n",
    "input = \"Apple banana\"\n",
    "freq = character_count(input)\n",
    "print(freq)"
   ]
  },
  {
   "cell_type": "code",
   "execution_count": 24,
   "id": "86237585",
   "metadata": {},
   "outputs": [],
   "source": [
    "# Q5 WAP to print differnt vowels present in the given word"
   ]
  },
  {
   "cell_type": "code",
   "execution_count": 30,
   "id": "76891595",
   "metadata": {},
   "outputs": [
    {
     "name": "stdout",
     "output_type": "stream",
     "text": [
      "Vowels in the word: e, o, i\n"
     ]
    }
   ],
   "source": [
    "def print_vowels(word):\n",
    "    vowels = \"aeiouAEIOU\"\n",
    "    unique_vowels = set()\n",
    "\n",
    "    for char in word:\n",
    "        if char in vowels:\n",
    "            unique_vowels.add(char)\n",
    "\n",
    "    print(\"Vowels in the word:\", \", \".join(unique_vowels))\n",
    "\n",
    "word_input = \"Hello kitty\"\n",
    "print_vowels(word_input)"
   ]
  },
  {
   "cell_type": "code",
   "execution_count": 8,
   "id": "4af29c28",
   "metadata": {},
   "outputs": [
    {
     "name": "stdout",
     "output_type": "stream",
     "text": [
      "Even\n"
     ]
    }
   ],
   "source": [
    "#WAP to check whether if the given number id is even or odd\n",
    "\n",
    "def check_even_odd(number):\n",
    "    if number % 2 == 0:\n",
    "        return \"Even\"\n",
    "    else:\n",
    "        return \"Odd\"\n",
    "\n",
    "\n",
    "number = 4\n",
    "print(check_even_odd(number))"
   ]
  },
  {
   "cell_type": "code",
   "execution_count": 10,
   "id": "615f8722",
   "metadata": {},
   "outputs": [
    {
     "name": "stdout",
     "output_type": "stream",
     "text": [
      "120\n"
     ]
    }
   ],
   "source": [
    "#WAP to find factorial of a given number\n",
    "\n",
    "def factorial(n):\n",
    "    if n == 0:\n",
    "        return 1\n",
    "    else:\n",
    "        return n * factorial(n-1)\n",
    "\n",
    "n = 5\n",
    "print(factorial(n))"
   ]
  },
  {
   "cell_type": "code",
   "execution_count": 19,
   "id": "42872c2e",
   "metadata": {},
   "outputs": [
    {
     "name": "stdout",
     "output_type": "stream",
     "text": [
      "Square: 9 Cube: 27\n"
     ]
    }
   ],
   "source": [
    "#WAP for returning multiple values from a function taking an input\n",
    "\n",
    "def multiple_returns(input_value):\n",
    "    square = input_value ** 2\n",
    "    cube = input_value ** 3\n",
    "    return square, cube\n",
    "\n",
    "input_value = 3\n",
    "square, cube = multiple_returns(input_value)\n",
    "print(\"Square:\", square, \"Cube:\", cube)"
   ]
  },
  {
   "cell_type": "code",
   "execution_count": 12,
   "id": "d0a8e941",
   "metadata": {},
   "outputs": [
    {
     "name": "stdout",
     "output_type": "stream",
     "text": [
      "25\n"
     ]
    }
   ],
   "source": [
    "#WAP to create a lambda function to find the square of the given number\n",
    "\n",
    "square_lambda = lambda x: x**2\n",
    "\n",
    "print(square_lambda(5))"
   ]
  },
  {
   "cell_type": "code",
   "execution_count": 20,
   "id": "7c4003e5",
   "metadata": {},
   "outputs": [
    {
     "name": "stdout",
     "output_type": "stream",
     "text": [
      "20\n"
     ]
    }
   ],
   "source": [
    "#WAP to create a lambda function to find the biggest of given values\n",
    "\n",
    "biggest = lambda a, b: a if a > b else b\n",
    "print(biggest(10, 20))\n"
   ]
  },
  {
   "cell_type": "code",
   "execution_count": 14,
   "id": "3f322d95",
   "metadata": {},
   "outputs": [
    {
     "name": "stdout",
     "output_type": "stream",
     "text": [
      "[2, 4, 6]\n",
      "[2, 4, 6]\n"
     ]
    }
   ],
   "source": [
    "#WAP to filter only even numbers from the least by using filter function 1)Without lambda function 2) With lambda function\n",
    "\n",
    "def is_even(number):\n",
    "    return number % 2 == 0\n",
    "\n",
    "numbers = [1, 2, 3, 4, 5, 6]\n",
    "even_numbers = filter(is_even, numbers)\n",
    "\n",
    "print(list(even_numbers))\n",
    "\n",
    "\n",
    "\n",
    "numbers = [1, 2, 3, 4, 5, 6]\n",
    "even_numbers_lambda = filter(lambda x: x % 2 == 0, numbers)\n",
    "\n",
    "print(list(even_numbers_lambda))\n"
   ]
  },
  {
   "cell_type": "code",
   "execution_count": 13,
   "id": "428279c2",
   "metadata": {},
   "outputs": [
    {
     "name": "stdout",
     "output_type": "stream",
     "text": [
      "[1, 4, 9, 16, 25]\n"
     ]
    }
   ],
   "source": [
    "#Find square of the given numbers by using map in python\n",
    "\n",
    "\n",
    "numbers = [1, 2, 3, 4, 5]\n",
    "squares = map(lambda x: x**2, numbers)\n",
    "\n",
    "print(list(squares))"
   ]
  }
 ],
 "metadata": {
  "kernelspec": {
   "display_name": "Python 3 (ipykernel)",
   "language": "python",
   "name": "python3"
  },
  "language_info": {
   "codemirror_mode": {
    "name": "ipython",
    "version": 3
   },
   "file_extension": ".py",
   "mimetype": "text/x-python",
   "name": "python",
   "nbconvert_exporter": "python",
   "pygments_lexer": "ipython3",
   "version": "3.11.5"
  }
 },
 "nbformat": 4,
 "nbformat_minor": 5
}

{
 "cells": [
  {
   "cell_type": "markdown",
   "id": "ec608634",
   "metadata": {},
   "source": [
    "### Parameters are a input to the function and at the time of calling the function we should provoide the values,otherwise we will get the error"
   ]
  },
  {
   "cell_type": "markdown",
   "id": "678208c3",
   "metadata": {},
   "source": [
    "## write a function to find the factorial of a given range of number"
   ]
  },
  {
   "cell_type": "code",
   "execution_count": 3,
   "id": "8980b191",
   "metadata": {},
   "outputs": [
    {
     "name": "stdout",
     "output_type": "stream",
     "text": [
      "Enter the start range4\n",
      "Enter the last range9\n",
      "The factorial of  4  is  24\n",
      "The factorial of  5  is  120\n",
      "The factorial of  6  is  720\n",
      "The factorial of  7  is  5040\n",
      "The factorial of  8  is  40320\n"
     ]
    }
   ],
   "source": [
    "\n",
    "\n",
    "def fact(num):\n",
    "    mul=1\n",
    "    for i in range(1,num+1):\n",
    "        mul*=i\n",
    "    return mul\n",
    "    \n",
    "\n",
    "s=int(input(\"Enter the start range\"))\n",
    "l=int(input(\"Enter the last range\"))\n",
    "for x in range(s,l):\n",
    "    ans= fact(x)\n",
    "    print(\"The factorial of \",x,\" is \",ans)\n",
    "        \n",
    "    "
   ]
  },
  {
   "cell_type": "markdown",
   "id": "009c987e",
   "metadata": {},
   "source": [
    "### sum and sub from one function multi return"
   ]
  },
  {
   "cell_type": "code",
   "execution_count": 4,
   "id": "604296ed",
   "metadata": {},
   "outputs": [],
   "source": [
    "\n",
    "\n",
    "def sum(*num):\n",
    "    total=0\n",
    "    for n in r:\n",
    "        total =total+n;\n",
    "        print(total)"
   ]
  },
  {
   "cell_type": "markdown",
   "id": "c5e51acf",
   "metadata": {},
   "source": [
    "Line of code which may return a value is called a function. Module is a list of functions saved in a file.\n",
    "\n",
    "A group of lines with a name is called function. \n",
    "A group of functions saved in a file is called module. \n",
    "A List of modules is called a library. "
   ]
  },
  {
   "cell_type": "markdown",
   "id": "43815b01",
   "metadata": {},
   "source": [
    "Anoymous Function\n",
    "1)Lambda Function- Sometime we can declare a function without any name such type of nameless function is called lambda function"
   ]
  },
  {
   "cell_type": "code",
   "execution_count": 5,
   "id": "1ab6cd7f",
   "metadata": {},
   "outputs": [
    {
     "name": "stdout",
     "output_type": "stream",
     "text": [
      "[2, 30, 4, 6]\n"
     ]
    }
   ],
   "source": [
    "def iseven(x):\n",
    "    if(x%2==0):\n",
    "        return True\n",
    "    else:\n",
    "        return False\n",
    "    \n",
    "numbers = [1, 2, 30, 4, 15, 6]\n",
    "l2 = list(filter(iseven, numbers))\n",
    "\n",
    "print(l2)"
   ]
  },
  {
   "cell_type": "markdown",
   "id": "81ddeede",
   "metadata": {},
   "source": [
    "### Map Function - For every element present in the given sequence applies some functionality and generates a new element with the required modification for which map function is used"
   ]
  },
  {
   "cell_type": "code",
   "execution_count": 6,
   "id": "98ff1a45",
   "metadata": {},
   "outputs": [
    {
     "name": "stdout",
     "output_type": "stream",
     "text": [
      "[26, 48, 6, 88]\n"
     ]
    }
   ],
   "source": [
    "\n",
    "def addition(n):\n",
    "    return n + n\n",
    "\n",
    "numbers = (13, 24, 3, 44)\n",
    "result = map(addition, numbers)\n",
    "print(list(result))\n"
   ]
  },
  {
   "cell_type": "markdown",
   "id": "e865ddef",
   "metadata": {},
   "source": [
    "### Reduce function reduces sequence of elements into a single element by applying some specific function "
   ]
  },
  {
   "cell_type": "code",
   "execution_count": 7,
   "id": "fccc4f2f",
   "metadata": {},
   "outputs": [
    {
     "name": "stdout",
     "output_type": "stream",
     "text": [
      "The sum of the list elements is : 17\n",
      "The maximum element of the list is : 6\n"
     ]
    }
   ],
   "source": [
    "\n",
    "import functools \n",
    "\n",
    "lis = [1, 3, 5, 6, 2] \n",
    "\n",
    "print(\"The sum of the list elements is : \", end=\"\") \n",
    "print(functools.reduce(lambda a, b: a+b, lis)) \n",
    "\n",
    "print(\"The maximum element of the list is : \", end=\"\") \n",
    "print(functools.reduce(lambda a, b: a if a > b else b, lis)) \n"
   ]
  },
  {
   "cell_type": "code",
   "execution_count": null,
   "id": "5784403b",
   "metadata": {},
   "outputs": [],
   "source": []
  }
 ],
 "metadata": {
  "kernelspec": {
   "display_name": "Python 3 (ipykernel)",
   "language": "python",
   "name": "python3"
  },
  "language_info": {
   "codemirror_mode": {
    "name": "ipython",
    "version": 3
   },
   "file_extension": ".py",
   "mimetype": "text/x-python",
   "name": "python",
   "nbconvert_exporter": "python",
   "pygments_lexer": "ipython3",
   "version": "3.11.5"
  }
 },
 "nbformat": 4,
 "nbformat_minor": 5
}

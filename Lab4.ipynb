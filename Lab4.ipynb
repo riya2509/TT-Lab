{
 "cells": [
  {
   "cell_type": "markdown",
   "id": "a71264c9",
   "metadata": {},
   "source": [
    "## 1. WAP to find factorial of a given number with recursion"
   ]
  },
  {
   "cell_type": "code",
   "execution_count": 5,
   "id": "c84af87d",
   "metadata": {},
   "outputs": [
    {
     "name": "stdout",
     "output_type": "stream",
     "text": [
      "Enter a number: 10\n",
      "The factorial of 10 is 3628800\n"
     ]
    }
   ],
   "source": [
    "def factorial(n):\n",
    "    if n == 0 or n == 1:\n",
    "        return 1\n",
    "    else:\n",
    "        return n * factorial(n-1)\n",
    "\n",
    "num = int(input(\"Enter a number: \"))\n",
    "result = factorial(num)\n",
    "print(f\"The factorial of {num} is {result}\")\n"
   ]
  },
  {
   "cell_type": "markdown",
   "id": "ba4f3990",
   "metadata": {},
   "source": [
    "## 2. Function decorator and generators"
   ]
  },
  {
   "cell_type": "code",
   "execution_count": 7,
   "id": "7329f3eb",
   "metadata": {},
   "outputs": [
    {
     "name": "stdout",
     "output_type": "stream",
     "text": [
      "Enter the limit for the generator: 6\n",
      "[0, 1, 2, 3, 4, 5]\n"
     ]
    }
   ],
   "source": [
    "def my_decorator(func):\n",
    "    def wrapper(*args, **kwargs):\n",
    "        result = func(*args, **kwargs)\n",
    "        return result\n",
    "    return wrapper\n",
    "\n",
    "def my_generator(n):\n",
    "    for i in range(n):\n",
    "        yield i\n",
    "\n",
    "limit = int(input(\"Enter the limit for the generator: \"))\n",
    "gen = my_generator(limit)\n",
    "print(list(gen))\n"
   ]
  },
  {
   "cell_type": "markdown",
   "id": "c1b911bb",
   "metadata": {},
   "source": [
    "## 3. Program to solve the fibonacci series using recursion"
   ]
  },
  {
   "cell_type": "code",
   "execution_count": 9,
   "id": "11efb58a",
   "metadata": {},
   "outputs": [
    {
     "name": "stdout",
     "output_type": "stream",
     "text": [
      "Enter the number of terms for Fibonacci series: 9\n",
      "0\n",
      "1\n",
      "1\n",
      "2\n",
      "3\n",
      "5\n",
      "8\n",
      "13\n",
      "21\n"
     ]
    }
   ],
   "source": [
    "def fibonacci(n):\n",
    "    if n <= 1:\n",
    "        return n\n",
    "    else:\n",
    "        return fibonacci(n-1) + fibonacci(n-2)\n",
    "\n",
    "term = int(input(\"Enter the number of terms for Fibonacci series: \"))\n",
    "for i in range(term):\n",
    "    print(fibonacci(i))\n"
   ]
  },
  {
   "cell_type": "markdown",
   "id": "d4b674e7",
   "metadata": {},
   "source": [
    "## 4. Find the sequence using recursion"
   ]
  },
  {
   "cell_type": "code",
   "execution_count": 10,
   "id": "63fb458c",
   "metadata": {},
   "outputs": [
    {
     "name": "stdout",
     "output_type": "stream",
     "text": [
      "Enter the length of the sequence: 6\n",
      "[1, 3, 5, 7, 9, 11]\n"
     ]
    }
   ],
   "source": [
    "def generate_sequence(n):\n",
    "    if n == 0:\n",
    "        return []\n",
    "    elif n == 1:\n",
    "        return [1]\n",
    "    else:\n",
    "        sequence = generate_sequence(n-1)\n",
    "        sequence.append(sequence[-1] + 2)\n",
    "        return sequence\n",
    "\n",
    "length = int(input(\"Enter the length of the sequence: \"))\n",
    "result_sequence = generate_sequence(length)\n",
    "print(result_sequence)\n"
   ]
  },
  {
   "cell_type": "markdown",
   "id": "f8fbdf5b",
   "metadata": {},
   "source": [
    "### 5. Sequence of Range from 1/n using Recursion:"
   ]
  },
  {
   "cell_type": "code",
   "execution_count": 11,
   "id": "54b6fee6",
   "metadata": {},
   "outputs": [
    {
     "name": "stdout",
     "output_type": "stream",
     "text": [
      "Enter the length of the sequence: 5\n",
      "[1, 0.5, 0.3333333333333333, 0.25, 0.2]\n"
     ]
    }
   ],
   "source": [
    "def sequence_from_one_over_n(n):\n",
    "    if n == 1:\n",
    "        return [1]\n",
    "    else:\n",
    "        result = sequence_from_one_over_n(n-1)\n",
    "        result.append(1/n)\n",
    "        return result\n",
    "\n",
    "# User Input\n",
    "length = int(input(\"Enter the length of the sequence: \"))\n",
    "result_sequence = sequence_from_one_over_n(length)\n",
    "print(result_sequence)"
   ]
  },
  {
   "cell_type": "markdown",
   "id": "0f5f97a7",
   "metadata": {},
   "source": [
    "### 6. Exponential (a^b) using Recursion:"
   ]
  },
  {
   "cell_type": "code",
   "execution_count": 12,
   "id": "d017014a",
   "metadata": {},
   "outputs": [
    {
     "name": "stdout",
     "output_type": "stream",
     "text": [
      "Enter the base: 3\n",
      "Enter the exponent: 6\n",
      "3^6 is 729\n"
     ]
    }
   ],
   "source": [
    "def power(base, exponent):\n",
    "    if exponent == 0:\n",
    "        return 1\n",
    "    else:\n",
    "        return base * power(base, exponent-1)\n",
    "\n",
    "# User Input\n",
    "base = int(input(\"Enter the base: \"))\n",
    "exp = int(input(\"Enter the exponent: \"))\n",
    "result = power(base, exp)\n",
    "print(f\"{base}^{exp} is {result}\")"
   ]
  },
  {
   "cell_type": "markdown",
   "id": "43e6265c",
   "metadata": {},
   "source": [
    "### 7. GCD of Two Integers using Recursion:"
   ]
  },
  {
   "cell_type": "code",
   "execution_count": 13,
   "id": "f6f5480f",
   "metadata": {},
   "outputs": [
    {
     "name": "stdout",
     "output_type": "stream",
     "text": [
      "Enter the first integer: 56\n",
      "Enter the second integer: 76\n",
      "The GCD of 56 and 76 is 4\n"
     ]
    }
   ],
   "source": [
    "def gcd(a, b):\n",
    "    if b == 0:\n",
    "        return a\n",
    "    else:\n",
    "        return gcd(b, a % b)\n",
    "\n",
    "# User Input\n",
    "num1 = int(input(\"Enter the first integer: \"))\n",
    "num2 = int(input(\"Enter the second integer: \"))\n",
    "result = gcd(num1, num2)\n",
    "print(f\"The GCD of {num1} and {num2} is {result}\")"
   ]
  },
  {
   "cell_type": "code",
   "execution_count": null,
   "id": "6689b404",
   "metadata": {},
   "outputs": [],
   "source": []
  }
 ],
 "metadata": {
  "kernelspec": {
   "display_name": "Python 3 (ipykernel)",
   "language": "python",
   "name": "python3"
  },
  "language_info": {
   "codemirror_mode": {
    "name": "ipython",
    "version": 3
   },
   "file_extension": ".py",
   "mimetype": "text/x-python",
   "name": "python",
   "nbconvert_exporter": "python",
   "pygments_lexer": "ipython3",
   "version": "3.11.5"
  }
 },
 "nbformat": 4,
 "nbformat_minor": 5
}

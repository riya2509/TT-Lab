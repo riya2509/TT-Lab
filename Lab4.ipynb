{
 "cells": [
  {
   "cell_type": "markdown",
   "id": "a71264c9",
   "metadata": {},
   "source": [
    "## 1. WAP to find factorial of a given number with recursion"
   ]
  },
  {
   "cell_type": "code",
   "execution_count": 2,
   "id": "c84af87d",
   "metadata": {},
   "outputs": [
    {
     "name": "stdout",
     "output_type": "stream",
     "text": [
      "Enter a number: 4\n",
      "The factorial of 4 is 24\n"
     ]
    }
   ],
   "source": [
    "def factorial(n):\n",
    "    if n == 0 or n == 1:\n",
    "        return 1\n",
    "    else:\n",
    "        return n * factorial(n-1)\n",
    "\n",
    "num = int(input(\"Enter a number: \"))\n",
    "result = factorial(num)\n",
    "print(f\"The factorial of {num} is {result}\")\n"
   ]
  },
  {
   "cell_type": "markdown",
   "id": "ba4f3990",
   "metadata": {},
   "source": [
    "## 2. Function decorator and generators"
   ]
  },
  {
   "cell_type": "code",
   "execution_count": 4,
   "id": "7329f3eb",
   "metadata": {},
   "outputs": [
    {
     "name": "stdout",
     "output_type": "stream",
     "text": [
      "Enter the limit for the generator: 5\n",
      "[0, 1, 2, 3, 4]\n"
     ]
    }
   ],
   "source": [
    "def my_decorator(func):\n",
    "    def wrapper(*args, **kwargs):\n",
    "        result = func(*args, **kwargs)\n",
    "        return result\n",
    "    return wrapper\n",
    "\n",
    "def my_generator(n):\n",
    "    for i in range(n):\n",
    "        yield i\n",
    "\n",
    "limit = int(input(\"Enter the limit for the generator: \"))\n",
    "gen = my_generator(limit)\n",
    "print(list(gen))\n"
   ]
  },
  {
   "cell_type": "markdown",
   "id": "c1b911bb",
   "metadata": {},
   "source": [
    "## 3. Program to solve the fibonacci series using recursion"
   ]
  },
  {
   "cell_type": "code",
   "execution_count": 5,
   "id": "11efb58a",
   "metadata": {},
   "outputs": [
    {
     "name": "stdout",
     "output_type": "stream",
     "text": [
      "Enter the number of terms for Fibonacci series: 5\n",
      "0\n",
      "1\n",
      "1\n",
      "2\n",
      "3\n"
     ]
    }
   ],
   "source": [
    "def fibonacci(n):\n",
    "    if n <= 1:\n",
    "        return n\n",
    "    else:\n",
    "        return fibonacci(n-1) + fibonacci(n-2)\n",
    "\n",
    "term = int(input(\"Enter the number of terms for Fibonacci series: \"))\n",
    "for i in range(term):\n",
    "    print(fibonacci(i))\n"
   ]
  },
  {
   "cell_type": "markdown",
   "id": "d4b674e7",
   "metadata": {},
   "source": [
    "## 4. Find the sequence using recursion"
   ]
  },
  {
   "cell_type": "code",
   "execution_count": 6,
   "id": "63fb458c",
   "metadata": {},
   "outputs": [
    {
     "name": "stdout",
     "output_type": "stream",
     "text": [
      "Enter the length of the sequence: 4\n",
      "[1, 3, 5, 7]\n"
     ]
    }
   ],
   "source": [
    "def generate_sequence(n):\n",
    "    if n == 0:\n",
    "        return []\n",
    "    elif n == 1:\n",
    "        return [1]\n",
    "    else:\n",
    "        sequence = generate_sequence(n-1)\n",
    "        sequence.append(sequence[-1] + 2)\n",
    "        return sequence\n",
    "\n",
    "length = int(input(\"Enter the length of the sequence: \"))\n",
    "result_sequence = generate_sequence(length)\n",
    "print(result_sequence)\n"
   ]
  }
 ],
 "metadata": {
  "kernelspec": {
   "display_name": "Python 3 (ipykernel)",
   "language": "python",
   "name": "python3"
  },
  "language_info": {
   "codemirror_mode": {
    "name": "ipython",
    "version": 3
   },
   "file_extension": ".py",
   "mimetype": "text/x-python",
   "name": "python",
   "nbconvert_exporter": "python",
   "pygments_lexer": "ipython3",
   "version": "3.11.5"
  }
 },
 "nbformat": 4,
 "nbformat_minor": 5
}

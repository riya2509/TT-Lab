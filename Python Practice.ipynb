{
 "cells": [
  {
   "cell_type": "markdown",
   "id": "72a222dd",
   "metadata": {},
   "source": [
    "### Swapping two numbers"
   ]
  },
  {
   "cell_type": "code",
   "execution_count": 2,
   "id": "cdf5fc60",
   "metadata": {},
   "outputs": [
    {
     "name": "stdout",
     "output_type": "stream",
     "text": [
      "Enter a number4\n",
      "Enter a number5\n",
      "Number after swapping 5 4\n",
      "After swapping again 4 5\n"
     ]
    }
   ],
   "source": [
    "#Approach 1\n",
    "a=input(\"Enter a number\")\n",
    "b=input(\"Enter a number\")\n",
    "\n",
    "temp = a\n",
    "a=b\n",
    "b=temp\n",
    "\n",
    "print(\"Number after swapping\",a,b)\n",
    "#Approach 2\n",
    "a,b=b,a\n",
    "print(\"After swapping again\",a,b)"
   ]
  },
  {
   "cell_type": "markdown",
   "id": "894f7a70",
   "metadata": {},
   "source": [
    "### Check a number is prime or not"
   ]
  },
  {
   "cell_type": "code",
   "execution_count": 6,
   "id": "fcf4e833",
   "metadata": {},
   "outputs": [
    {
     "name": "stdout",
     "output_type": "stream",
     "text": [
      "Enter a number10\n",
      "10 is not a prime number\n"
     ]
    }
   ],
   "source": [
    "num=int(input(\"Enter a number\"))\n",
    "count =0\n",
    "\n",
    "if num>1:\n",
    "    for i in range(1,num+1):\n",
    "        if (num%i)==0:\n",
    "            count=count+1\n",
    "    if(count ==2):\n",
    "        print(num,\"is a prime number\")\n",
    "    else:\n",
    "        print(num,\"is not a prime number\")\n",
    "        \n",
    "            "
   ]
  },
  {
   "cell_type": "markdown",
   "id": "7c83a941",
   "metadata": {},
   "source": [
    "### Counting the number of prime numbers"
   ]
  },
  {
   "cell_type": "code",
   "execution_count": 4,
   "id": "55b028b0",
   "metadata": {},
   "outputs": [
    {
     "name": "stdout",
     "output_type": "stream",
     "text": [
      "25\n"
     ]
    }
   ],
   "source": [
    "def countPrime(n):\n",
    "    count=0\n",
    "    \n",
    "    for i in range (n):\n",
    "        if i>1:\n",
    "            for j in range (2,i):\n",
    "                if(i%j)==0:\n",
    "                    break\n",
    "            else:\n",
    "                count+=1\n",
    "    return count\n",
    "\n",
    "print(countPrime(100))   "
   ]
  },
  {
   "cell_type": "markdown",
   "id": "da7b249a",
   "metadata": {},
   "source": [
    "### Factorial of a number"
   ]
  },
  {
   "cell_type": "code",
   "execution_count": 16,
   "id": "3e1e529d",
   "metadata": {},
   "outputs": [
    {
     "name": "stdout",
     "output_type": "stream",
     "text": [
      "Enter a number5\n",
      "The factorial of 5 equal to 120\n"
     ]
    }
   ],
   "source": [
    "num=int(input(\"Enter a number\"))\n",
    "factorial=1\n",
    "\n",
    "if num<0:\n",
    "    print(\"Factorial of negative numbers do not exist\")\n",
    "elif num==0:\n",
    "    print(\"Factorial of 0 is equal to 1\")\n",
    "else:\n",
    "    for i in range (1,num+1):\n",
    "        factorial=factorial*i\n",
    "    print(\"The factorial of\",num,\"equal to\",factorial)\n",
    "    "
   ]
  },
  {
   "cell_type": "code",
   "execution_count": 18,
   "id": "f37c1890",
   "metadata": {},
   "outputs": [
    {
     "name": "stdout",
     "output_type": "stream",
     "text": [
      "120\n"
     ]
    }
   ],
   "source": [
    "#Method 2\n",
    "\n",
    "def factorial(n):\n",
    "    if (n==0 or n==1):\n",
    "        return 1\n",
    "    else:\n",
    "        return n*factorial(n-1)\n",
    "print(factorial(5))"
   ]
  },
  {
   "cell_type": "markdown",
   "id": "7e9e004c",
   "metadata": {},
   "source": [
    "### Fibonacci Series"
   ]
  },
  {
   "cell_type": "code",
   "execution_count": 14,
   "id": "af4630bc",
   "metadata": {},
   "outputs": [
    {
     "name": "stdout",
     "output_type": "stream",
     "text": [
      "0\n",
      "1\n",
      "1\n",
      "2\n",
      "3\n",
      "5\n",
      "8\n",
      "13\n",
      "21\n",
      "34\n"
     ]
    }
   ],
   "source": [
    "n1=0\n",
    "n2=1\n",
    "print(n1)\n",
    "print(n2)\n",
    "\n",
    "for i in range (2,10):\n",
    "    sum=n1+n2\n",
    "    print(sum)\n",
    "    n1=n2\n",
    "    n2=sum"
   ]
  },
  {
   "cell_type": "code",
   "execution_count": null,
   "id": "fa092582",
   "metadata": {},
   "outputs": [],
   "source": []
  }
 ],
 "metadata": {
  "kernelspec": {
   "display_name": "Python 3 (ipykernel)",
   "language": "python",
   "name": "python3"
  },
  "language_info": {
   "codemirror_mode": {
    "name": "ipython",
    "version": 3
   },
   "file_extension": ".py",
   "mimetype": "text/x-python",
   "name": "python",
   "nbconvert_exporter": "python",
   "pygments_lexer": "ipython3",
   "version": "3.11.5"
  }
 },
 "nbformat": 4,
 "nbformat_minor": 5
}

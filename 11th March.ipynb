{
 "cells": [
  {
   "cell_type": "code",
   "execution_count": 1,
   "id": "3974348b",
   "metadata": {},
   "outputs": [
    {
     "name": "stdout",
     "output_type": "stream",
     "text": [
      "Requirement already satisfied: pandas in c:\\users\\riya\\anaconda3\\lib\\site-packages (2.0.3)\n",
      "Requirement already satisfied: python-dateutil>=2.8.2 in c:\\users\\riya\\anaconda3\\lib\\site-packages (from pandas) (2.8.2)\n",
      "Requirement already satisfied: pytz>=2020.1 in c:\\users\\riya\\anaconda3\\lib\\site-packages (from pandas) (2023.3.post1)\n",
      "Requirement already satisfied: tzdata>=2022.1 in c:\\users\\riya\\anaconda3\\lib\\site-packages (from pandas) (2023.3)\n",
      "Requirement already satisfied: numpy>=1.21.0 in c:\\users\\riya\\anaconda3\\lib\\site-packages (from pandas) (1.24.3)\n",
      "Requirement already satisfied: six>=1.5 in c:\\users\\riya\\anaconda3\\lib\\site-packages (from python-dateutil>=2.8.2->pandas) (1.16.0)\n",
      "Note: you may need to restart the kernel to use updated packages.\n"
     ]
    }
   ],
   "source": [
    "pip install pandas"
   ]
  },
  {
   "cell_type": "markdown",
   "id": "a2f1df43",
   "metadata": {},
   "source": [
    "### 1"
   ]
  },
  {
   "cell_type": "code",
   "execution_count": 2,
   "id": "c129c843",
   "metadata": {},
   "outputs": [],
   "source": [
    "import pandas as pd"
   ]
  },
  {
   "cell_type": "code",
   "execution_count": 6,
   "id": "9ca2fe8e",
   "metadata": {},
   "outputs": [
    {
     "data": {
      "text/html": [
       "<div>\n",
       "<style scoped>\n",
       "    .dataframe tbody tr th:only-of-type {\n",
       "        vertical-align: middle;\n",
       "    }\n",
       "\n",
       "    .dataframe tbody tr th {\n",
       "        vertical-align: top;\n",
       "    }\n",
       "\n",
       "    .dataframe thead th {\n",
       "        text-align: right;\n",
       "    }\n",
       "</style>\n",
       "<table border=\"1\" class=\"dataframe\">\n",
       "  <thead>\n",
       "    <tr style=\"text-align: right;\">\n",
       "      <th></th>\n",
       "      <th>rank</th>\n",
       "      <th>discipline</th>\n",
       "      <th>phd</th>\n",
       "      <th>service</th>\n",
       "      <th>gender</th>\n",
       "      <th>salary</th>\n",
       "    </tr>\n",
       "  </thead>\n",
       "  <tbody>\n",
       "    <tr>\n",
       "      <th>0</th>\n",
       "      <td>Prof</td>\n",
       "      <td>B</td>\n",
       "      <td>56.0</td>\n",
       "      <td>49</td>\n",
       "      <td>Male</td>\n",
       "      <td>186960.0</td>\n",
       "    </tr>\n",
       "    <tr>\n",
       "      <th>1</th>\n",
       "      <td>Prof</td>\n",
       "      <td>A</td>\n",
       "      <td>12.0</td>\n",
       "      <td>6</td>\n",
       "      <td>Male</td>\n",
       "      <td>93000.0</td>\n",
       "    </tr>\n",
       "    <tr>\n",
       "      <th>2</th>\n",
       "      <td>Prof</td>\n",
       "      <td>A</td>\n",
       "      <td>23.0</td>\n",
       "      <td>20</td>\n",
       "      <td>Male</td>\n",
       "      <td>110515.0</td>\n",
       "    </tr>\n",
       "    <tr>\n",
       "      <th>3</th>\n",
       "      <td>Prof</td>\n",
       "      <td>A</td>\n",
       "      <td>40.0</td>\n",
       "      <td>31</td>\n",
       "      <td>Male</td>\n",
       "      <td>131205.0</td>\n",
       "    </tr>\n",
       "    <tr>\n",
       "      <th>4</th>\n",
       "      <td>Prof</td>\n",
       "      <td>B</td>\n",
       "      <td>20.0</td>\n",
       "      <td>18</td>\n",
       "      <td>Male</td>\n",
       "      <td>104800.0</td>\n",
       "    </tr>\n",
       "    <tr>\n",
       "      <th>5</th>\n",
       "      <td>Prof</td>\n",
       "      <td>A</td>\n",
       "      <td>20.0</td>\n",
       "      <td>20</td>\n",
       "      <td>Male</td>\n",
       "      <td>122400.0</td>\n",
       "    </tr>\n",
       "    <tr>\n",
       "      <th>6</th>\n",
       "      <td>AssocProf</td>\n",
       "      <td>A</td>\n",
       "      <td>20.0</td>\n",
       "      <td>17</td>\n",
       "      <td>Male</td>\n",
       "      <td>81285.0</td>\n",
       "    </tr>\n",
       "    <tr>\n",
       "      <th>7</th>\n",
       "      <td>Prof</td>\n",
       "      <td>A</td>\n",
       "      <td>18.0</td>\n",
       "      <td>18</td>\n",
       "      <td>Male</td>\n",
       "      <td>NaN</td>\n",
       "    </tr>\n",
       "    <tr>\n",
       "      <th>8</th>\n",
       "      <td>Prof</td>\n",
       "      <td>A</td>\n",
       "      <td>29.0</td>\n",
       "      <td>19</td>\n",
       "      <td>Male</td>\n",
       "      <td>94350.0</td>\n",
       "    </tr>\n",
       "    <tr>\n",
       "      <th>9</th>\n",
       "      <td>Prof</td>\n",
       "      <td>A</td>\n",
       "      <td>51.0</td>\n",
       "      <td>51</td>\n",
       "      <td>Male</td>\n",
       "      <td>57800.0</td>\n",
       "    </tr>\n",
       "  </tbody>\n",
       "</table>\n",
       "</div>"
      ],
      "text/plain": [
       "        rank discipline   phd  service gender    salary\n",
       "0       Prof          B  56.0       49   Male  186960.0\n",
       "1       Prof          A  12.0        6   Male   93000.0\n",
       "2       Prof          A  23.0       20   Male  110515.0\n",
       "3       Prof          A  40.0       31   Male  131205.0\n",
       "4       Prof          B  20.0       18   Male  104800.0\n",
       "5       Prof          A  20.0       20   Male  122400.0\n",
       "6  AssocProf          A  20.0       17   Male   81285.0\n",
       "7       Prof          A  18.0       18   Male       NaN\n",
       "8       Prof          A  29.0       19   Male   94350.0\n",
       "9       Prof          A  51.0       51   Male   57800.0"
      ]
     },
     "execution_count": 6,
     "metadata": {},
     "output_type": "execute_result"
    }
   ],
   "source": [
    "df=pd.read_csv('Salaries.csv')\n",
    "df.head(10)"
   ]
  },
  {
   "cell_type": "markdown",
   "id": "2c5c0471",
   "metadata": {},
   "source": [
    "### 2"
   ]
  },
  {
   "cell_type": "code",
   "execution_count": 7,
   "id": "022904e2",
   "metadata": {},
   "outputs": [
    {
     "data": {
      "text/html": [
       "<div>\n",
       "<style scoped>\n",
       "    .dataframe tbody tr th:only-of-type {\n",
       "        vertical-align: middle;\n",
       "    }\n",
       "\n",
       "    .dataframe tbody tr th {\n",
       "        vertical-align: top;\n",
       "    }\n",
       "\n",
       "    .dataframe thead th {\n",
       "        text-align: right;\n",
       "    }\n",
       "</style>\n",
       "<table border=\"1\" class=\"dataframe\">\n",
       "  <thead>\n",
       "    <tr style=\"text-align: right;\">\n",
       "      <th></th>\n",
       "      <th>rank</th>\n",
       "      <th>discipline</th>\n",
       "      <th>phd</th>\n",
       "      <th>service</th>\n",
       "      <th>gender</th>\n",
       "      <th>salary</th>\n",
       "    </tr>\n",
       "  </thead>\n",
       "  <tbody>\n",
       "    <tr>\n",
       "      <th>63</th>\n",
       "      <td>Prof</td>\n",
       "      <td>A</td>\n",
       "      <td>29.0</td>\n",
       "      <td>27</td>\n",
       "      <td>Female</td>\n",
       "      <td>91000.0</td>\n",
       "    </tr>\n",
       "    <tr>\n",
       "      <th>64</th>\n",
       "      <td>AssocProf</td>\n",
       "      <td>A</td>\n",
       "      <td>26.0</td>\n",
       "      <td>24</td>\n",
       "      <td>Female</td>\n",
       "      <td>73300.0</td>\n",
       "    </tr>\n",
       "    <tr>\n",
       "      <th>65</th>\n",
       "      <td>Prof</td>\n",
       "      <td>A</td>\n",
       "      <td>36.0</td>\n",
       "      <td>19</td>\n",
       "      <td>Female</td>\n",
       "      <td>117555.0</td>\n",
       "    </tr>\n",
       "    <tr>\n",
       "      <th>66</th>\n",
       "      <td>AsstProf</td>\n",
       "      <td>A</td>\n",
       "      <td>7.0</td>\n",
       "      <td>6</td>\n",
       "      <td>Female</td>\n",
       "      <td>63100.0</td>\n",
       "    </tr>\n",
       "    <tr>\n",
       "      <th>67</th>\n",
       "      <td>Prof</td>\n",
       "      <td>A</td>\n",
       "      <td>17.0</td>\n",
       "      <td>11</td>\n",
       "      <td>Female</td>\n",
       "      <td>90450.0</td>\n",
       "    </tr>\n",
       "    <tr>\n",
       "      <th>68</th>\n",
       "      <td>AsstProf</td>\n",
       "      <td>A</td>\n",
       "      <td>4.0</td>\n",
       "      <td>2</td>\n",
       "      <td>Female</td>\n",
       "      <td>77500.0</td>\n",
       "    </tr>\n",
       "    <tr>\n",
       "      <th>69</th>\n",
       "      <td>Prof</td>\n",
       "      <td>A</td>\n",
       "      <td>28.0</td>\n",
       "      <td>7</td>\n",
       "      <td>Female</td>\n",
       "      <td>116450.0</td>\n",
       "    </tr>\n",
       "    <tr>\n",
       "      <th>70</th>\n",
       "      <td>AsstProf</td>\n",
       "      <td>A</td>\n",
       "      <td>8.0</td>\n",
       "      <td>3</td>\n",
       "      <td>Female</td>\n",
       "      <td>78500.0</td>\n",
       "    </tr>\n",
       "    <tr>\n",
       "      <th>71</th>\n",
       "      <td>AssocProf</td>\n",
       "      <td>B</td>\n",
       "      <td>12.0</td>\n",
       "      <td>9</td>\n",
       "      <td>Female</td>\n",
       "      <td>71065.0</td>\n",
       "    </tr>\n",
       "    <tr>\n",
       "      <th>72</th>\n",
       "      <td>Prof</td>\n",
       "      <td>B</td>\n",
       "      <td>24.0</td>\n",
       "      <td>15</td>\n",
       "      <td>Female</td>\n",
       "      <td>161101.0</td>\n",
       "    </tr>\n",
       "    <tr>\n",
       "      <th>73</th>\n",
       "      <td>Prof</td>\n",
       "      <td>B</td>\n",
       "      <td>18.0</td>\n",
       "      <td>10</td>\n",
       "      <td>Female</td>\n",
       "      <td>105450.0</td>\n",
       "    </tr>\n",
       "    <tr>\n",
       "      <th>74</th>\n",
       "      <td>AssocProf</td>\n",
       "      <td>B</td>\n",
       "      <td>19.0</td>\n",
       "      <td>6</td>\n",
       "      <td>Female</td>\n",
       "      <td>104542.0</td>\n",
       "    </tr>\n",
       "    <tr>\n",
       "      <th>75</th>\n",
       "      <td>Prof</td>\n",
       "      <td>B</td>\n",
       "      <td>17.0</td>\n",
       "      <td>17</td>\n",
       "      <td>Female</td>\n",
       "      <td>124312.0</td>\n",
       "    </tr>\n",
       "    <tr>\n",
       "      <th>76</th>\n",
       "      <td>Prof</td>\n",
       "      <td>A</td>\n",
       "      <td>28.0</td>\n",
       "      <td>14</td>\n",
       "      <td>Female</td>\n",
       "      <td>109954.0</td>\n",
       "    </tr>\n",
       "    <tr>\n",
       "      <th>77</th>\n",
       "      <td>Prof</td>\n",
       "      <td>A</td>\n",
       "      <td>23.0</td>\n",
       "      <td>15</td>\n",
       "      <td>Female</td>\n",
       "      <td>109646.0</td>\n",
       "    </tr>\n",
       "  </tbody>\n",
       "</table>\n",
       "</div>"
      ],
      "text/plain": [
       "         rank discipline   phd  service  gender    salary\n",
       "63       Prof          A  29.0       27  Female   91000.0\n",
       "64  AssocProf          A  26.0       24  Female   73300.0\n",
       "65       Prof          A  36.0       19  Female  117555.0\n",
       "66   AsstProf          A   7.0        6  Female   63100.0\n",
       "67       Prof          A  17.0       11  Female   90450.0\n",
       "68   AsstProf          A   4.0        2  Female   77500.0\n",
       "69       Prof          A  28.0        7  Female  116450.0\n",
       "70   AsstProf          A   8.0        3  Female   78500.0\n",
       "71  AssocProf          B  12.0        9  Female   71065.0\n",
       "72       Prof          B  24.0       15  Female  161101.0\n",
       "73       Prof          B  18.0       10  Female  105450.0\n",
       "74  AssocProf          B  19.0        6  Female  104542.0\n",
       "75       Prof          B  17.0       17  Female  124312.0\n",
       "76       Prof          A  28.0       14  Female  109954.0\n",
       "77       Prof          A  23.0       15  Female  109646.0"
      ]
     },
     "execution_count": 7,
     "metadata": {},
     "output_type": "execute_result"
    }
   ],
   "source": [
    "df.tail(15)"
   ]
  },
  {
   "cell_type": "markdown",
   "id": "ba3b1cbb",
   "metadata": {},
   "source": [
    "### 3"
   ]
  },
  {
   "cell_type": "code",
   "execution_count": 13,
   "id": "7ff45d0c",
   "metadata": {},
   "outputs": [
    {
     "name": "stdout",
     "output_type": "stream",
     "text": [
      "Highest salary of Male Professor: 186960.0\n",
      "Lowest salary of Male Professor: 57800.0\n",
      "Highest salary of Female Professor: 161101.0\n",
      "Lowest salary of Female Professor: 90450.0\n"
     ]
    }
   ],
   "source": [
    "max_salary_male_professor = df[(df['gender'] == 'Male') & (df['rank'] == 'Prof')]['salary'].max()\n",
    "min_salary_male_professor = df[(df['gender'] == 'Male') & (df['rank'] == 'Prof')]['salary'].min()\n",
    "max_salary_female_professor = df[(df['gender'] == 'Female') & (df['rank'] == 'Prof')]['salary'].max()\n",
    "min_salary_female_professor = df[(df['gender'] == 'Female') & (df['rank'] == 'Prof')]['salary'].min()\n",
    "print(\"Highest salary of Male Professor:\", max_salary_male_professor)\n",
    "print(\"Lowest salary of Male Professor:\", min_salary_male_professor)\n",
    "print(\"Highest salary of Female Professor:\", max_salary_female_professor)\n",
    "print(\"Lowest salary of Female Professor:\", min_salary_female_professor)"
   ]
  },
  {
   "cell_type": "markdown",
   "id": "b2aedabf",
   "metadata": {},
   "source": [
    "### 4"
   ]
  },
  {
   "cell_type": "code",
   "execution_count": 14,
   "id": "e7c650ae",
   "metadata": {},
   "outputs": [
    {
     "name": "stdout",
     "output_type": "stream",
     "text": [
      "Highest salary of Professor: 186960.0\n",
      "Lowest salary of Professor: 57800.0\n"
     ]
    }
   ],
   "source": [
    "max_salary_professor = df[df['rank'] == 'Prof']['salary'].max()\n",
    "min_salary_professor = df[df['rank'] == 'Prof']['salary'].min()\n",
    "print(\"Highest salary of Professor:\", max_salary_professor)\n",
    "print(\"Lowest salary of Professor:\", min_salary_professor)"
   ]
  },
  {
   "cell_type": "markdown",
   "id": "e92df69d",
   "metadata": {},
   "source": [
    "### 5"
   ]
  },
  {
   "cell_type": "code",
   "execution_count": 16,
   "id": "017d0218",
   "metadata": {},
   "outputs": [
    {
     "data": {
      "text/html": [
       "<div>\n",
       "<style scoped>\n",
       "    .dataframe tbody tr th:only-of-type {\n",
       "        vertical-align: middle;\n",
       "    }\n",
       "\n",
       "    .dataframe tbody tr th {\n",
       "        vertical-align: top;\n",
       "    }\n",
       "\n",
       "    .dataframe thead th {\n",
       "        text-align: right;\n",
       "    }\n",
       "</style>\n",
       "<table border=\"1\" class=\"dataframe\">\n",
       "  <thead>\n",
       "    <tr style=\"text-align: right;\">\n",
       "      <th></th>\n",
       "      <th>rank</th>\n",
       "      <th>discipline</th>\n",
       "      <th>phd</th>\n",
       "      <th>service</th>\n",
       "      <th>gender</th>\n",
       "      <th>salary</th>\n",
       "    </tr>\n",
       "  </thead>\n",
       "  <tbody>\n",
       "    <tr>\n",
       "      <th>0</th>\n",
       "      <td>Prof</td>\n",
       "      <td>B</td>\n",
       "      <td>56.0</td>\n",
       "      <td>49</td>\n",
       "      <td>Male</td>\n",
       "      <td>186960.0</td>\n",
       "    </tr>\n",
       "    <tr>\n",
       "      <th>1</th>\n",
       "      <td>Prof</td>\n",
       "      <td>A</td>\n",
       "      <td>12.0</td>\n",
       "      <td>6</td>\n",
       "      <td>Male</td>\n",
       "      <td>93000.0</td>\n",
       "    </tr>\n",
       "    <tr>\n",
       "      <th>2</th>\n",
       "      <td>Prof</td>\n",
       "      <td>A</td>\n",
       "      <td>23.0</td>\n",
       "      <td>20</td>\n",
       "      <td>Male</td>\n",
       "      <td>110515.0</td>\n",
       "    </tr>\n",
       "    <tr>\n",
       "      <th>3</th>\n",
       "      <td>Prof</td>\n",
       "      <td>A</td>\n",
       "      <td>40.0</td>\n",
       "      <td>31</td>\n",
       "      <td>Male</td>\n",
       "      <td>131205.0</td>\n",
       "    </tr>\n",
       "    <tr>\n",
       "      <th>4</th>\n",
       "      <td>Prof</td>\n",
       "      <td>B</td>\n",
       "      <td>20.0</td>\n",
       "      <td>18</td>\n",
       "      <td>Male</td>\n",
       "      <td>104800.0</td>\n",
       "    </tr>\n",
       "    <tr>\n",
       "      <th>5</th>\n",
       "      <td>Prof</td>\n",
       "      <td>A</td>\n",
       "      <td>20.0</td>\n",
       "      <td>20</td>\n",
       "      <td>Male</td>\n",
       "      <td>122400.0</td>\n",
       "    </tr>\n",
       "    <tr>\n",
       "      <th>6</th>\n",
       "      <td>AssocProf</td>\n",
       "      <td>A</td>\n",
       "      <td>20.0</td>\n",
       "      <td>17</td>\n",
       "      <td>Male</td>\n",
       "      <td>81285.0</td>\n",
       "    </tr>\n",
       "    <tr>\n",
       "      <th>7</th>\n",
       "      <td>Prof</td>\n",
       "      <td>A</td>\n",
       "      <td>18.0</td>\n",
       "      <td>18</td>\n",
       "      <td>Male</td>\n",
       "      <td>119190.0</td>\n",
       "    </tr>\n",
       "    <tr>\n",
       "      <th>8</th>\n",
       "      <td>Prof</td>\n",
       "      <td>A</td>\n",
       "      <td>29.0</td>\n",
       "      <td>19</td>\n",
       "      <td>Male</td>\n",
       "      <td>94350.0</td>\n",
       "    </tr>\n",
       "    <tr>\n",
       "      <th>9</th>\n",
       "      <td>Prof</td>\n",
       "      <td>A</td>\n",
       "      <td>51.0</td>\n",
       "      <td>51</td>\n",
       "      <td>Male</td>\n",
       "      <td>57800.0</td>\n",
       "    </tr>\n",
       "  </tbody>\n",
       "</table>\n",
       "</div>"
      ],
      "text/plain": [
       "        rank discipline   phd  service gender    salary\n",
       "0       Prof          B  56.0       49   Male  186960.0\n",
       "1       Prof          A  12.0        6   Male   93000.0\n",
       "2       Prof          A  23.0       20   Male  110515.0\n",
       "3       Prof          A  40.0       31   Male  131205.0\n",
       "4       Prof          B  20.0       18   Male  104800.0\n",
       "5       Prof          A  20.0       20   Male  122400.0\n",
       "6  AssocProf          A  20.0       17   Male   81285.0\n",
       "7       Prof          A  18.0       18   Male  119190.0\n",
       "8       Prof          A  29.0       19   Male   94350.0\n",
       "9       Prof          A  51.0       51   Male   57800.0"
      ]
     },
     "execution_count": 16,
     "metadata": {},
     "output_type": "execute_result"
    }
   ],
   "source": [
    "df['salary'] = df.groupby('service')['salary'].transform(lambda x: x.fillna(x.mean()))\n",
    "df.head(10)"
   ]
  },
  {
   "cell_type": "markdown",
   "id": "f5e0ddf6",
   "metadata": {},
   "source": [
    "### 6"
   ]
  },
  {
   "cell_type": "code",
   "execution_count": 18,
   "id": "a8d6b97d",
   "metadata": {},
   "outputs": [],
   "source": [
    "df['phd'] = df.groupby('service')['phd'].transform(lambda x: x.fillna(x.mean()))"
   ]
  },
  {
   "cell_type": "markdown",
   "id": "12e9aa90",
   "metadata": {},
   "source": [
    "### 7"
   ]
  },
  {
   "cell_type": "code",
   "execution_count": 28,
   "id": "a4971ec9",
   "metadata": {},
   "outputs": [
    {
     "name": "stdout",
     "output_type": "stream",
     "text": [
      "Number of Male Staff: 39\n",
      "Number of Female Staff: 39\n"
     ]
    },
    {
     "data": {
      "image/png": "[encoded data removed]",
      "text/plain": [
       "<Figure size 800x800 with 1 Axes>"
      ]
     },
     "metadata": {},
     "output_type": "display_data"
    }
   ],
   "source": [
    "import matplotlib.pyplot as plt\n",
    "male_staff_count = len(df[df['gender'] == 'Male'])\n",
    "female_staff_count = len(df[df['gender'] == 'Female'])\n",
    "print(\"Number of Male Staff:\", male_staff_count)\n",
    "print(\"Number of Female Staff:\", female_staff_count)\n",
    "\n",
    "plt.figure(figsize=(8, 8))\n",
    "plt.pie([male_staff_count, female_staff_count], labels=['Male', 'Female'], autopct='%1.1f%%')\n",
    "plt.title('Male vs Female Staff')\n",
    "plt.show()"
   ]
  },
  {
   "cell_type": "markdown",
   "id": "151c60e2",
   "metadata": {},
   "source": [
    "### 8"
   ]
  },
  {
   "cell_type": "code",
   "execution_count": 29,
   "id": "332d9544",
   "metadata": {},
   "outputs": [
    {
     "name": "stdout",
     "output_type": "stream",
     "text": [
      "Number of Professors: 46\n",
      "Number of Associate Professors: 13\n",
      "Number of Assistant Professors: 19\n"
     ]
    },
    {
     "data": {
      "image/png": "[encoded data removed]",
      "text/plain": [
       "<Figure size 800x800 with 1 Axes>"
      ]
     },
     "metadata": {},
     "output_type": "display_data"
    }
   ],
   "source": [
    "prof_count = len(df[df['rank'] == 'Prof'])\n",
    "assoc_prof_count = len(df[df['rank'] == 'AssocProf'])\n",
    "asst_prof_count = len(df[df['rank'] == 'AsstProf'])\n",
    "print(\"Number of Professors:\", prof_count)\n",
    "print(\"Number of Associate Professors:\", assoc_prof_count)\n",
    "print(\"Number of Assistant Professors:\", asst_prof_count)\n",
    "\n",
    "plt.figure(figsize=(8, 8))\n",
    "plt.pie([prof_count, assoc_prof_count, asst_prof_count], labels=['Prof', 'AssocProf', 'AsstProf'], autopct='%1.1f%%')\n",
    "plt.title('Distribution of Professor Ranks')\n",
    "plt.show()"
   ]
  },
  {
   "cell_type": "markdown",
   "id": "731fc95f",
   "metadata": {},
   "source": [
    "### 9"
   ]
  },
  {
   "cell_type": "code",
   "execution_count": 31,
   "id": "2bfbbd69",
   "metadata": {},
   "outputs": [
    {
     "name": "stdout",
     "output_type": "stream",
     "text": [
      "Senior most employee: Prof Male 51\n",
      "Junior most employee: AsstProf Male 0\n"
     ]
    }
   ],
   "source": [
    "senior_employee = df.loc[df['service'].idxmax()]\n",
    "junior_employee = df.loc[df['service'].idxmin()]\n",
    "print(\"Senior most employee:\", senior_employee['rank'], senior_employee['gender'], senior_employee['service'])\n",
    "print(\"Junior most employee:\", junior_employee['rank'], junior_employee['gender'], junior_employee['service'])"
   ]
  },
  {
   "cell_type": "markdown",
   "id": "8eff7613",
   "metadata": {},
   "source": [
    "### 10"
   ]
  },
  {
   "cell_type": "code",
   "execution_count": 32,
   "id": "fc614d3f",
   "metadata": {},
   "outputs": [
    {
     "data": {
      "image/png": "[encoded data removed]",
      "text/plain": [
       "<Figure size 1000x600 with 1 Axes>"
      ]
     },
     "metadata": {},
     "output_type": "display_data"
    }
   ],
   "source": [
    "plt.figure(figsize=(10, 6))\n",
    "plt.hist(df['salary'], bins=range(50000, int(df['salary'].max()) + 15000, 15000), edgecolor='black')\n",
    "plt.xlabel('Salary')\n",
    "plt.ylabel('Frequency')\n",
    "plt.title('Salary Distribution')\n",
    "plt.show()"
   ]
  },
  {
   "cell_type": "code",
   "execution_count": null,
   "id": "a619d3c1",
   "metadata": {},
   "outputs": [],
   "source": []
  }
 ],
 "metadata": {
  "kernelspec": {
   "display_name": "Python 3 (ipykernel)",
   "language": "python",
   "name": "python3"
  },
  "language_info": {
   "codemirror_mode": {
    "name": "ipython",
    "version": 3
   },
   "file_extension": ".py",
   "mimetype": "text/x-python",
   "name": "python",
   "nbconvert_exporter": "python",
   "pygments_lexer": "ipython3",
   "version": "3.11.5"
  }
 },
 "nbformat": 4,
 "nbformat_minor": 5
}
